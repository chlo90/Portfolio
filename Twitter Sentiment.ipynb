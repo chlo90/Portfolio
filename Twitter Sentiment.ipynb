{
 "cells": [
  {
   "cell_type": "code",
   "execution_count": 1,
   "metadata": {},
   "outputs": [],
   "source": [
    "import sys\n",
    "import csv\n",
    "import tweepy\n",
    "import matplotlib.pyplot as plt\n",
    "\n",
    "from collections import Counter\n",
    "from aylienapiclient import textapi"
   ]
  },
  {
   "cell_type": "code",
   "execution_count": 41,
   "metadata": {},
   "outputs": [],
   "source": [
    "## AYLIEN credentials\n",
    "application_id = \"YOUR_APPLICATION_ID\"\n",
    "application_key = \"YOUR_APPLICATION_KEY\" "
   ]
  },
  {
   "cell_type": "code",
   "execution_count": 3,
   "metadata": {},
   "outputs": [],
   "source": [
    "## set up an instance of the AYLIEN Text API\n",
    "client = textapi.Client(application_id, application_key)"
   ]
  },
  {
   "cell_type": "code",
   "execution_count": 4,
   "metadata": {},
   "outputs": [
    {
     "name": "stdout",
     "output_type": "stream",
     "text": [
      "What subject do you want to analyze for this example? \n",
      "airline delay\n",
      "How many Tweets do you want to analyze? \n",
      "50\n"
     ]
    }
   ],
   "source": [
    "## search Twitter for something that interests you\n",
    "query = raw_input(\"What subject do you want to analyze for this example? \\n\")\n",
    "number = raw_input(\"How many Tweets do you want to analyze? \\n\")"
   ]
  },
  {
   "cell_type": "code",
   "execution_count": 5,
   "metadata": {},
   "outputs": [],
   "source": [
    "## set up an instance of Tweepy\n",
    "consumer_key = \"YOUR_TWEEPY_CONSUMER_KEY\"\n",
    "consumer_secret = \"YOUR_CONSUMER_SECRET\"\n",
    "access_token = \"YOUR_ACCESS_TOKEN\"\n",
    "access_token_secret = \"YOUR_ACCESS_TOKEN_SECRET\"\n",
    "auth = tweepy.OAuthHandler(consumer_key, consumer_secret)\n",
    "auth.set_access_token(access_token, access_token_secret)\n",
    "api = tweepy.API(auth)"
   ]
  },
  {
   "cell_type": "code",
   "execution_count": 6,
   "metadata": {},
   "outputs": [],
   "source": [
    "from TwitterAPI import TwitterAPI\n",
    "results = api.search(\n",
    "   lang=\"en\",\n",
    "   q=query + \" -rt\",\n",
    "   count=number,\n",
    "   result_type=\"recent\"\n",
    ")"
   ]
  },
  {
   "cell_type": "code",
   "execution_count": 7,
   "metadata": {},
   "outputs": [
    {
     "name": "stdout",
     "output_type": "stream",
     "text": [
      "--- Gathered Tweets \n",
      "\n"
     ]
    }
   ],
   "source": [
    "print(\"--- Gathered Tweets \\n\")"
   ]
  },
  {
   "cell_type": "code",
   "execution_count": 8,
   "metadata": {},
   "outputs": [
    {
     "name": "stdout",
     "output_type": "stream",
     "text": [
      "--- Opened a CSV file to store the results of your sentiment analysis... \n",
      "\n",
      "Analyzed Tweet 1\n",
      "Analyzed Tweet 2\n",
      "Analyzed Tweet 3\n",
      "Analyzed Tweet 4\n",
      "Analyzed Tweet 5\n",
      "Analyzed Tweet 6\n",
      "Analyzed Tweet 7\n",
      "Analyzed Tweet 8\n",
      "Analyzed Tweet 9\n",
      "Analyzed Tweet 10\n",
      "Analyzed Tweet 11\n",
      "Analyzed Tweet 12\n",
      "Analyzed Tweet 13\n",
      "Analyzed Tweet 14\n",
      "Analyzed Tweet 15\n",
      "Analyzed Tweet 16\n",
      "Analyzed Tweet 17\n",
      "Analyzed Tweet 18\n",
      "Analyzed Tweet 19\n",
      "Analyzed Tweet 20\n",
      "Analyzed Tweet 21\n",
      "Analyzed Tweet 22\n",
      "Analyzed Tweet 23\n",
      "Analyzed Tweet 24\n",
      "Analyzed Tweet 25\n",
      "Analyzed Tweet 26\n",
      "Analyzed Tweet 27\n",
      "Analyzed Tweet 28\n",
      "Analyzed Tweet 29\n",
      "Analyzed Tweet 30\n",
      "Analyzed Tweet 31\n",
      "Analyzed Tweet 32\n",
      "Analyzed Tweet 33\n",
      "Analyzed Tweet 34\n",
      "Analyzed Tweet 35\n",
      "Analyzed Tweet 36\n",
      "Analyzed Tweet 37\n",
      "Analyzed Tweet 38\n",
      "Analyzed Tweet 39\n",
      "Analyzed Tweet 40\n",
      "Analyzed Tweet 41\n",
      "Analyzed Tweet 42\n",
      "Analyzed Tweet 43\n",
      "Analyzed Tweet 44\n",
      "Analyzed Tweet 45\n",
      "Analyzed Tweet 46\n",
      "Analyzed Tweet 47\n",
      "Analyzed Tweet 48\n",
      "Analyzed Tweet 49\n",
      "Analyzed Tweet 50\n"
     ]
    }
   ],
   "source": [
    "## open a csv file to store the Tweets and their sentiment \n",
    "file_name = 'Sentiment_Analysis_of_{}_Tweets_About_{}.csv'.format(number, query)\n",
    "\n",
    "with open(file_name, 'w') as csvfile:\n",
    "   csv_writer = csv.DictWriter(\n",
    "       f=csvfile,\n",
    "       fieldnames=[\"Tweet\", \"Sentiment\"]\n",
    "   )\n",
    "   csv_writer.writeheader()\n",
    "\n",
    "   print(\"--- Opened a CSV file to store the results of your sentiment analysis... \\n\")\n",
    "\n",
    "## tidy up the Tweets and send each to the AYLIEN Text API\n",
    "   for c, result in enumerate(results, start=1):\n",
    "       tweet = result.text\n",
    "       tidy_tweet = tweet.strip().encode('ascii', 'ignore')\n",
    "\n",
    "       if len(tweet) == 0:\n",
    "           print('Empty Tweet')\n",
    "           continue\n",
    "\n",
    "       response = client.Sentiment({'text': tidy_tweet})\n",
    "       csv_writer.writerow({\n",
    "           'Tweet': response['text'],\n",
    "           'Sentiment': response['polarity']\n",
    "       })\n",
    "\n",
    "       print(\"Analyzed Tweet {}\".format(c))\n",
    "#http://blog.aylien.com/build-a-sentiment-analysis-tool-for-twitter-with-this-simple-python-script/"
   ]
  },
  {
   "cell_type": "code",
   "execution_count": 9,
   "metadata": {},
   "outputs": [
    {
     "data": {
      "image/png": "[encoded data removed]",
      "text/plain": [
       "<matplotlib.figure.Figure at 0x110a3ed10>"
      ]
     },
     "metadata": {},
     "output_type": "display_data"
    }
   ],
   "source": [
    "## count the data in the Sentiment column of the CSV file \n",
    "with open(file_name, 'r') as data:\n",
    "   counter = Counter()\n",
    "   for row in csv.DictReader(data):\n",
    "       counter[row['Sentiment']] += 1\n",
    "\n",
    "   positive = counter['positive']\n",
    "   negative = counter['negative']\n",
    "   neutral = counter['neutral']\n",
    "\n",
    "## declare the variables for the pie chart, using the Counter variables for \"sizes\"\n",
    "colors = ['green', 'red', 'grey']\n",
    "sizes = [positive, negative, neutral]\n",
    "labels = 'Positive', 'Negative', 'Neutral'\n",
    "\n",
    "## use matplotlib to plot the chart\n",
    "plt.pie(\n",
    "   x=sizes,\n",
    "   shadow=True,\n",
    "   colors=colors,\n",
    "   labels=labels,\n",
    "   startangle=90\n",
    ")\n",
    "\n",
    "plt.title(\"Sentiment of {} Tweets about {}\".format(number, query))\n",
    "plt.show()"
   ]
  },
  {
   "cell_type": "markdown",
   "metadata": {},
   "source": [
    "Majority of the current tweets on airline delay shows negative sentiment, possibly because of the increase in volumne of holiday travels and delays possibly related to weathers and cancellations."
   ]
  }
 ],
 "metadata": {
  "kernelspec": {
   "display_name": "Python 2",
   "language": "python",
   "name": "python2"
  },
  "language_info": {
   "codemirror_mode": {
    "name": "ipython",
    "version": 2
   },
   "file_extension": ".py",
   "mimetype": "text/x-python",
   "name": "python",
   "nbconvert_exporter": "python",
   "pygments_lexer": "ipython2",
   "version": "2.7.13"
  }
 },
 "nbformat": 4,
 "nbformat_minor": 2
}
