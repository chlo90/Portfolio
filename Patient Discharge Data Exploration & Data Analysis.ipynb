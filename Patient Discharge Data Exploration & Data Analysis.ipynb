{
 "cells": [
  {
   "cell_type": "markdown",
   "metadata": {},
   "source": [
    "# Data Exploration on Patient Discharge dataset \n",
    "\n",
    "- Data: National Discharge Dataset on substance abuse patients from 2007 to 2013 including 64 variables that contain demographic, patient, and substance-related variables \n",
    "- Objective: Exploratory Data Analysis on 2013 Texas patient discharge dataset to understand the dataset better\n",
    "- Assumption: Use the most recent dataset available (2013). Each yearly dateset has an approximately same number of rows and attributes. \n",
    "- Outcome: We want to predict LOS (Length of Stay) and REASON (success of patient treatment) with the highest accuracy \n",
    "- Note: Codebook for all the variables at the end of this notebook "
   ]
  },
  {
   "cell_type": "code",
   "execution_count": 1,
   "metadata": {},
   "outputs": [
    {
     "name": "stderr",
     "output_type": "stream",
     "text": [
      "/Users/chloekwon/anaconda/lib/python2.7/site-packages/sklearn/cross_validation.py:41: DeprecationWarning: This module was deprecated in version 0.18 in favor of the model_selection module into which all the refactored classes and functions are moved. Also note that the interface of the new CV iterators are different from that of this module. This module will be removed in 0.20.\n",
      "  \"This module will be removed in 0.20.\", DeprecationWarning)\n"
     ]
    }
   ],
   "source": [
    "import pandas as pd\n",
    "import matplotlib.pyplot as plt\n",
    "import numpy as np\n",
    "import glob\n",
    "import math\n",
    "import time\n",
    "\n",
    "from sklearn.model_selection import (train_test_split,KFold)\n",
    "from sklearn import linear_model\n",
    "from sklearn.decomposition import PCA\n",
    "from sklearn.metrics import mean_squared_error, r2_score\n",
    "from sklearn.neural_network import MLPRegressor\n",
    "from sklearn import svm\n",
    "from sklearn.ensemble import RandomForestClassifier\n",
    "from sklearn.ensemble import RandomForestRegressor \n",
    "from sklearn.tree import DecisionTreeClassifier\n",
    "\n",
    "from sklearn.metrics import accuracy_score\n",
    "from sklearn.neural_network import MLPClassifier\n",
    "from sklearn import neighbors\n",
    "from sklearn.model_selection import cross_val_score\n",
    "from sklearn.svm import SVR\n",
    "from sklearn.model_selection import GridSearchCV\n",
    "from sklearn.metrics import classification_report\n",
    "from sklearn.pipeline import Pipeline\n",
    "from sklearn.ensemble import ExtraTreesClassifier\n",
    "from sklearn.metrics import confusion_matrix\n",
    "from sklearn.svm import SVC\n",
    "from xgboost import XGBClassifier"
   ]
  },
  {
   "cell_type": "code",
   "execution_count": 1,
   "metadata": {},
   "outputs": [],
   "source": [
    "import pandas as pd \n",
    "data_2013 = pd.read_csv(\"teds_d_2013.csv\")"
   ]
  },
  {
   "cell_type": "code",
   "execution_count": 2,
   "metadata": {},
   "outputs": [
    {
     "data": {
      "text/html": [
       "<div>\n",
       "<style>\n",
       "    .dataframe thead tr:only-child th {\n",
       "        text-align: right;\n",
       "    }\n",
       "\n",
       "    .dataframe thead th {\n",
       "        text-align: left;\n",
       "    }\n",
       "\n",
       "    .dataframe tbody tr th {\n",
       "        vertical-align: top;\n",
       "    }\n",
       "</style>\n",
       "<table border=\"1\" class=\"dataframe\">\n",
       "  <thead>\n",
       "    <tr style=\"text-align: right;\">\n",
       "      <th></th>\n",
       "      <th>CASEID</th>\n",
       "      <th>DISYR</th>\n",
       "      <th>AGE</th>\n",
       "      <th>GENDER</th>\n",
       "      <th>RACE</th>\n",
       "      <th>ETHNIC</th>\n",
       "      <th>MARSTAT</th>\n",
       "      <th>EDUC</th>\n",
       "      <th>EMPLOY</th>\n",
       "      <th>DETNLF</th>\n",
       "      <th>...</th>\n",
       "      <th>BARBFLG</th>\n",
       "      <th>SEDHPFLG</th>\n",
       "      <th>INHFLG</th>\n",
       "      <th>OTCFLG</th>\n",
       "      <th>OTHERFLG</th>\n",
       "      <th>ALCDRUG</th>\n",
       "      <th>DSMCRIT</th>\n",
       "      <th>PSYPROB</th>\n",
       "      <th>HLTHINS</th>\n",
       "      <th>PRIMPAY</th>\n",
       "    </tr>\n",
       "  </thead>\n",
       "  <tbody>\n",
       "    <tr>\n",
       "      <th>0</th>\n",
       "      <td>20130000001</td>\n",
       "      <td>2013</td>\n",
       "      <td>5</td>\n",
       "      <td>1</td>\n",
       "      <td>5</td>\n",
       "      <td>5</td>\n",
       "      <td>1</td>\n",
       "      <td>-9</td>\n",
       "      <td>1</td>\n",
       "      <td>-9</td>\n",
       "      <td>...</td>\n",
       "      <td>0</td>\n",
       "      <td>0</td>\n",
       "      <td>0</td>\n",
       "      <td>0</td>\n",
       "      <td>0</td>\n",
       "      <td>3</td>\n",
       "      <td>7</td>\n",
       "      <td>2</td>\n",
       "      <td>4</td>\n",
       "      <td>-9</td>\n",
       "    </tr>\n",
       "    <tr>\n",
       "      <th>1</th>\n",
       "      <td>20130000002</td>\n",
       "      <td>2013</td>\n",
       "      <td>6</td>\n",
       "      <td>1</td>\n",
       "      <td>4</td>\n",
       "      <td>5</td>\n",
       "      <td>1</td>\n",
       "      <td>-9</td>\n",
       "      <td>3</td>\n",
       "      <td>-9</td>\n",
       "      <td>...</td>\n",
       "      <td>0</td>\n",
       "      <td>0</td>\n",
       "      <td>0</td>\n",
       "      <td>0</td>\n",
       "      <td>1</td>\n",
       "      <td>3</td>\n",
       "      <td>7</td>\n",
       "      <td>2</td>\n",
       "      <td>4</td>\n",
       "      <td>-9</td>\n",
       "    </tr>\n",
       "    <tr>\n",
       "      <th>2</th>\n",
       "      <td>20130000003</td>\n",
       "      <td>2013</td>\n",
       "      <td>6</td>\n",
       "      <td>1</td>\n",
       "      <td>5</td>\n",
       "      <td>5</td>\n",
       "      <td>1</td>\n",
       "      <td>-9</td>\n",
       "      <td>4</td>\n",
       "      <td>5</td>\n",
       "      <td>...</td>\n",
       "      <td>0</td>\n",
       "      <td>0</td>\n",
       "      <td>0</td>\n",
       "      <td>0</td>\n",
       "      <td>1</td>\n",
       "      <td>3</td>\n",
       "      <td>8</td>\n",
       "      <td>1</td>\n",
       "      <td>3</td>\n",
       "      <td>-9</td>\n",
       "    </tr>\n",
       "    <tr>\n",
       "      <th>3</th>\n",
       "      <td>20130000004</td>\n",
       "      <td>2013</td>\n",
       "      <td>9</td>\n",
       "      <td>2</td>\n",
       "      <td>4</td>\n",
       "      <td>5</td>\n",
       "      <td>1</td>\n",
       "      <td>3</td>\n",
       "      <td>4</td>\n",
       "      <td>1</td>\n",
       "      <td>...</td>\n",
       "      <td>0</td>\n",
       "      <td>0</td>\n",
       "      <td>0</td>\n",
       "      <td>0</td>\n",
       "      <td>0</td>\n",
       "      <td>3</td>\n",
       "      <td>7</td>\n",
       "      <td>1</td>\n",
       "      <td>3</td>\n",
       "      <td>-9</td>\n",
       "    </tr>\n",
       "    <tr>\n",
       "      <th>4</th>\n",
       "      <td>20130000005</td>\n",
       "      <td>2013</td>\n",
       "      <td>7</td>\n",
       "      <td>1</td>\n",
       "      <td>5</td>\n",
       "      <td>5</td>\n",
       "      <td>1</td>\n",
       "      <td>-9</td>\n",
       "      <td>3</td>\n",
       "      <td>-9</td>\n",
       "      <td>...</td>\n",
       "      <td>0</td>\n",
       "      <td>0</td>\n",
       "      <td>0</td>\n",
       "      <td>0</td>\n",
       "      <td>0</td>\n",
       "      <td>2</td>\n",
       "      <td>5</td>\n",
       "      <td>2</td>\n",
       "      <td>4</td>\n",
       "      <td>-9</td>\n",
       "    </tr>\n",
       "  </tbody>\n",
       "</table>\n",
       "<p>5 rows × 64 columns</p>\n",
       "</div>"
      ],
      "text/plain": [
       "        CASEID  DISYR  AGE  GENDER  RACE  ETHNIC  MARSTAT  EDUC  EMPLOY  \\\n",
       "0  20130000001   2013    5       1     5       5        1    -9       1   \n",
       "1  20130000002   2013    6       1     4       5        1    -9       3   \n",
       "2  20130000003   2013    6       1     5       5        1    -9       4   \n",
       "3  20130000004   2013    9       2     4       5        1     3       4   \n",
       "4  20130000005   2013    7       1     5       5        1    -9       3   \n",
       "\n",
       "   DETNLF   ...     BARBFLG  SEDHPFLG  INHFLG  OTCFLG  OTHERFLG  ALCDRUG  \\\n",
       "0      -9   ...           0         0       0       0         0        3   \n",
       "1      -9   ...           0         0       0       0         1        3   \n",
       "2       5   ...           0         0       0       0         1        3   \n",
       "3       1   ...           0         0       0       0         0        3   \n",
       "4      -9   ...           0         0       0       0         0        2   \n",
       "\n",
       "   DSMCRIT  PSYPROB  HLTHINS  PRIMPAY  \n",
       "0        7        2        4       -9  \n",
       "1        7        2        4       -9  \n",
       "2        8        1        3       -9  \n",
       "3        7        1        3       -9  \n",
       "4        5        2        4       -9  \n",
       "\n",
       "[5 rows x 64 columns]"
      ]
     },
     "execution_count": 2,
     "metadata": {},
     "output_type": "execute_result"
    }
   ],
   "source": [
    "data_2013.head()"
   ]
  },
  {
   "cell_type": "code",
   "execution_count": 3,
   "metadata": {},
   "outputs": [
    {
     "data": {
      "text/plain": [
       "(1601220, 64)"
      ]
     },
     "execution_count": 3,
     "metadata": {},
     "output_type": "execute_result"
    }
   ],
   "source": [
    "data_2013.shape"
   ]
  },
  {
   "cell_type": "markdown",
   "metadata": {},
   "source": [
    "Confirm that there are no missing data within 2013 dataset "
   ]
  },
  {
   "cell_type": "code",
   "execution_count": 4,
   "metadata": {},
   "outputs": [
    {
     "data": {
      "text/plain": [
       "False"
      ]
     },
     "execution_count": 4,
     "metadata": {},
     "output_type": "execute_result"
    }
   ],
   "source": [
    "data_2013.isnull().values.any() "
   ]
  },
  {
   "cell_type": "markdown",
   "metadata": {},
   "source": [
    "We'll zoom in and look at only Texas data \n",
    "- Business application of this dataset could be better understood in Texas \n",
    "- If we were to take the analysis further with actionable insights, we could possibly approach Dell Medical School or Baylor Medical School "
   ]
  },
  {
   "cell_type": "code",
   "execution_count": 5,
   "metadata": {},
   "outputs": [
    {
     "data": {
      "text/plain": [
       "(39695, 64)"
      ]
     },
     "execution_count": 5,
     "metadata": {},
     "output_type": "execute_result"
    }
   ],
   "source": [
    "texas_data_2013 = data_2013.loc[data_2013['STFIPS'] == 48]\n",
    "texas_data_2013.shape"
   ]
  },
  {
   "cell_type": "code",
   "execution_count": 6,
   "metadata": {},
   "outputs": [
    {
     "data": {
      "text/plain": [
       "Index([u'CASEID', u'DISYR', u'AGE', u'GENDER', u'RACE', u'ETHNIC', u'MARSTAT',\n",
       "       u'EDUC', u'EMPLOY', u'DETNLF', u'PREG', u'VET', u'LIVARAG', u'PRIMINC',\n",
       "       u'ARRESTS', u'STFIPS', u'CBSA', u'REGION', u'DIVISION', u'SERVSETD',\n",
       "       u'METHUSE', u'DAYWAIT', u'REASON', u'LOS', u'PSOURCE', u'DETCRIM',\n",
       "       u'NOPRIOR', u'SUB1', u'ROUTE1', u'FREQ1', u'FRSTUSE1', u'SUB2',\n",
       "       u'ROUTE2', u'FREQ2', u'FRSTUSE2', u'SUB3', u'ROUTE3', u'FREQ3',\n",
       "       u'FRSTUSE3', u'NUMSUBS', u'IDU', u'ALCFLG', u'COKEFLG', u'MARFLG',\n",
       "       u'HERFLG', u'METHFLG', u'OPSYNFLG', u'PCPFLG', u'HALLFLG', u'MTHAMFLG',\n",
       "       u'AMPHFLG', u'STIMFLG', u'BENZFLG', u'TRNQFLG', u'BARBFLG', u'SEDHPFLG',\n",
       "       u'INHFLG', u'OTCFLG', u'OTHERFLG', u'ALCDRUG', u'DSMCRIT', u'PSYPROB',\n",
       "       u'HLTHINS', u'PRIMPAY'],\n",
       "      dtype='object')"
      ]
     },
     "execution_count": 6,
     "metadata": {},
     "output_type": "execute_result"
    }
   ],
   "source": [
    "texas_data_2013.columns"
   ]
  },
  {
   "cell_type": "code",
   "execution_count": 7,
   "metadata": {},
   "outputs": [
    {
     "name": "stderr",
     "output_type": "stream",
     "text": [
      "/Users/chloekwon/anaconda/lib/python2.7/site-packages/pandas/core/indexing.py:179: SettingWithCopyWarning: \n",
      "A value is trying to be set on a copy of a slice from a DataFrame\n",
      "\n",
      "See the caveats in the documentation: http://pandas.pydata.org/pandas-docs/stable/indexing.html#indexing-view-versus-copy\n",
      "  self._setitem_with_indexer(indexer, value)\n",
      "/Users/chloekwon/anaconda/lib/python2.7/site-packages/ipykernel_launcher.py:3: SettingWithCopyWarning: \n",
      "A value is trying to be set on a copy of a slice from a DataFrame\n",
      "\n",
      "See the caveats in the documentation: http://pandas.pydata.org/pandas-docs/stable/indexing.html#indexing-view-versus-copy\n",
      "  This is separate from the ipykernel package so we can avoid doing imports until\n"
     ]
    }
   ],
   "source": [
    "#Binarize the reason column to have 1 as success and 0 as unsuccessful \n",
    "reason_no = texas_data_2013[texas_data_2013['REASON'] != 1] \n",
    "texas_data_2013.loc[texas_data_2013['REASON'] > 1, 'REASON'] = 0"
   ]
  },
  {
   "cell_type": "markdown",
   "metadata": {},
   "source": [
    "Explore correlation of features to LOS (Length of Stay) and REASON (success) features"
   ]
  },
  {
   "cell_type": "code",
   "execution_count": 9,
   "metadata": {},
   "outputs": [
    {
     "data": {
      "text/html": [
       "<div>\n",
       "<style>\n",
       "    .dataframe thead tr:only-child th {\n",
       "        text-align: right;\n",
       "    }\n",
       "\n",
       "    .dataframe thead th {\n",
       "        text-align: left;\n",
       "    }\n",
       "\n",
       "    .dataframe tbody tr th {\n",
       "        vertical-align: top;\n",
       "    }\n",
       "</style>\n",
       "<table border=\"1\" class=\"dataframe\">\n",
       "  <thead>\n",
       "    <tr style=\"text-align: right;\">\n",
       "      <th></th>\n",
       "      <th>LOS</th>\n",
       "    </tr>\n",
       "  </thead>\n",
       "  <tbody>\n",
       "    <tr>\n",
       "      <th>SERVSETD</th>\n",
       "      <td>0.642891</td>\n",
       "    </tr>\n",
       "    <tr>\n",
       "      <th>PSOURCE</th>\n",
       "      <td>0.428341</td>\n",
       "    </tr>\n",
       "    <tr>\n",
       "      <th>DETCRIM</th>\n",
       "      <td>0.357890</td>\n",
       "    </tr>\n",
       "    <tr>\n",
       "      <th>MARFLG</th>\n",
       "      <td>0.229372</td>\n",
       "    </tr>\n",
       "    <tr>\n",
       "      <th>LIVARAG</th>\n",
       "      <td>0.152177</td>\n",
       "    </tr>\n",
       "    <tr>\n",
       "      <th>DETNLF</th>\n",
       "      <td>0.138717</td>\n",
       "    </tr>\n",
       "    <tr>\n",
       "      <th>REASON</th>\n",
       "      <td>0.109135</td>\n",
       "    </tr>\n",
       "    <tr>\n",
       "      <th>CBSA</th>\n",
       "      <td>0.090794</td>\n",
       "    </tr>\n",
       "    <tr>\n",
       "      <th>ARRESTS</th>\n",
       "      <td>0.071557</td>\n",
       "    </tr>\n",
       "    <tr>\n",
       "      <th>ALCDRUG</th>\n",
       "      <td>0.065087</td>\n",
       "    </tr>\n",
       "  </tbody>\n",
       "</table>\n",
       "</div>"
      ],
      "text/plain": [
       "               LOS\n",
       "SERVSETD  0.642891\n",
       "PSOURCE   0.428341\n",
       "DETCRIM   0.357890\n",
       "MARFLG    0.229372\n",
       "LIVARAG   0.152177\n",
       "DETNLF    0.138717\n",
       "REASON    0.109135\n",
       "CBSA      0.090794\n",
       "ARRESTS   0.071557\n",
       "ALCDRUG   0.065087"
      ]
     },
     "execution_count": 9,
     "metadata": {},
     "output_type": "execute_result"
    }
   ],
   "source": [
    "corr_all = texas_data_2013.corr() \n",
    "corr_LOG = pd.DataFrame(corr_all['LOS'].drop('LOS'))\n",
    "corr_LOG.sort_values(by='LOS', ascending = False)[:10]"
   ]
  },
  {
   "cell_type": "code",
   "execution_count": 10,
   "metadata": {},
   "outputs": [
    {
     "data": {
      "text/html": [
       "<div>\n",
       "<style>\n",
       "    .dataframe thead tr:only-child th {\n",
       "        text-align: right;\n",
       "    }\n",
       "\n",
       "    .dataframe thead th {\n",
       "        text-align: left;\n",
       "    }\n",
       "\n",
       "    .dataframe tbody tr th {\n",
       "        vertical-align: top;\n",
       "    }\n",
       "</style>\n",
       "<table border=\"1\" class=\"dataframe\">\n",
       "  <thead>\n",
       "    <tr style=\"text-align: right;\">\n",
       "      <th></th>\n",
       "      <th>REASON</th>\n",
       "    </tr>\n",
       "  </thead>\n",
       "  <tbody>\n",
       "    <tr>\n",
       "      <th>LOS</th>\n",
       "      <td>0.109135</td>\n",
       "    </tr>\n",
       "    <tr>\n",
       "      <th>METHUSE</th>\n",
       "      <td>0.073205</td>\n",
       "    </tr>\n",
       "    <tr>\n",
       "      <th>ALCFLG</th>\n",
       "      <td>0.061001</td>\n",
       "    </tr>\n",
       "    <tr>\n",
       "      <th>AGE</th>\n",
       "      <td>0.060201</td>\n",
       "    </tr>\n",
       "    <tr>\n",
       "      <th>EDUC</th>\n",
       "      <td>0.055522</td>\n",
       "    </tr>\n",
       "    <tr>\n",
       "      <th>LIVARAG</th>\n",
       "      <td>0.055475</td>\n",
       "    </tr>\n",
       "    <tr>\n",
       "      <th>DETCRIM</th>\n",
       "      <td>0.053287</td>\n",
       "    </tr>\n",
       "    <tr>\n",
       "      <th>FRSTUSE1</th>\n",
       "      <td>0.051039</td>\n",
       "    </tr>\n",
       "    <tr>\n",
       "      <th>PRIMPAY</th>\n",
       "      <td>0.046379</td>\n",
       "    </tr>\n",
       "    <tr>\n",
       "      <th>PSOURCE</th>\n",
       "      <td>0.045998</td>\n",
       "    </tr>\n",
       "  </tbody>\n",
       "</table>\n",
       "</div>"
      ],
      "text/plain": [
       "            REASON\n",
       "LOS       0.109135\n",
       "METHUSE   0.073205\n",
       "ALCFLG    0.061001\n",
       "AGE       0.060201\n",
       "EDUC      0.055522\n",
       "LIVARAG   0.055475\n",
       "DETCRIM   0.053287\n",
       "FRSTUSE1  0.051039\n",
       "PRIMPAY   0.046379\n",
       "PSOURCE   0.045998"
      ]
     },
     "execution_count": 10,
     "metadata": {},
     "output_type": "execute_result"
    }
   ],
   "source": [
    "corr_reason = pd.DataFrame(corr_all['REASON'].drop('REASON'))\n",
    "corr_reason.sort_values(by='REASON', ascending=False)[:10]"
   ]
  },
  {
   "cell_type": "markdown",
   "metadata": {},
   "source": [
    "Analyzing LOS (Length of Stay)"
   ]
  },
  {
   "cell_type": "code",
   "execution_count": 12,
   "metadata": {},
   "outputs": [
    {
     "data": {
      "text/plain": [
       "<matplotlib.axes._subplots.AxesSubplot at 0x120343710>"
      ]
     },
     "execution_count": 12,
     "metadata": {},
     "output_type": "execute_result"
    },
    {
     "data": {
      "image/png": "[encoded data removed]",
      "text/plain": [
       "<matplotlib.figure.Figure at 0x12021ac10>"
      ]
     },
     "metadata": {},
     "output_type": "display_data"
    }
   ],
   "source": [
    "#Histogram \n",
    "import seaborn as sns\n",
    "import warnings\n",
    "warnings.filterwarnings('ignore')\n",
    "%matplotlib inline\n",
    "\n",
    "sns.distplot(texas_data_2013['LOS']) \n",
    "#Deviates from normal distribution \n",
    "#Left Skewed, bi-modal distribution \n",
    "#Show peakness at around 34"
   ]
  },
  {
   "cell_type": "code",
   "execution_count": 13,
   "metadata": {},
   "outputs": [
    {
     "data": {
      "text/plain": [
       "<matplotlib.axes._subplots.AxesSubplot at 0x120391190>"
      ]
     },
     "execution_count": 13,
     "metadata": {},
     "output_type": "execute_result"
    },
    {
     "data": {
      "image/png": "[encoded data removed]",
      "text/plain": [
       "<matplotlib.figure.Figure at 0x12040aa50>"
      ]
     },
     "metadata": {},
     "output_type": "display_data"
    }
   ],
   "source": [
    "#Analyzing REASON \n",
    "\n",
    "sns.distplot(texas_data_2013['REASON'])"
   ]
  },
  {
   "cell_type": "markdown",
   "metadata": {},
   "source": [
    "57% of the people have had \"successful\" outcome "
   ]
  },
  {
   "cell_type": "code",
   "execution_count": 14,
   "metadata": {},
   "outputs": [
    {
     "data": {
      "text/plain": [
       "0.5698702607381282"
      ]
     },
     "execution_count": 14,
     "metadata": {},
     "output_type": "execute_result"
    }
   ],
   "source": [
    "reason_1 = texas_data_2013[texas_data_2013['REASON'] == 1]\n",
    "len(reason_1)*1.0 / len(texas_data_2013['REASON'])"
   ]
  },
  {
   "cell_type": "markdown",
   "metadata": {},
   "source": [
    "More frequent use of substance does not necessarily correlate to having higher length of stay"
   ]
  },
  {
   "cell_type": "code",
   "execution_count": 17,
   "metadata": {},
   "outputs": [
    {
     "data": {
      "image/png": "[encoded data removed]",
      "text/plain": [
       "<matplotlib.figure.Figure at 0x114ee5450>"
      ]
     },
     "metadata": {},
     "output_type": "display_data"
    }
   ],
   "source": [
    "data = pd.concat([texas_data_2013['LOS'], texas_data_2013['FREQ1']], axis=1)\n",
    "label = [\"Missing\", \"0 Use\", \"1-3/month\", \"1-2/week\", \"3-6/week\", \"Daily\"]\n",
    "f, ax = plt.subplots(figsize=(8, 6))\n",
    "fig = sns.boxplot(x='FREQ1', y=\"LOS\", data=data)\n",
    "fig.axis(ymin=0, ymax=40);"
   ]
  },
  {
   "cell_type": "markdown",
   "metadata": {},
   "source": [
    "I expected having 1=homeless to have longest length of stay, but it turned out not "
   ]
  },
  {
   "cell_type": "code",
   "execution_count": 18,
   "metadata": {},
   "outputs": [
    {
     "data": {
      "image/png": "[encoded data removed]",
      "text/plain": [
       "<matplotlib.figure.Figure at 0x127281190>"
      ]
     },
     "metadata": {},
     "output_type": "display_data"
    }
   ],
   "source": [
    "data_2 = pd.concat([texas_data_2013['LIVARAG'], texas_data_2013['LOS']], axis=1)\n",
    "f, ax = plt.subplots(figsize=(8, 6))\n",
    "fig = sns.boxplot(x='LIVARAG', y=\"LOS\", data=data_2)\n",
    "fig.axis(ymin=0, ymax=40);"
   ]
  },
  {
   "cell_type": "markdown",
   "metadata": {},
   "source": [
    "Number of Substance reported at admission doesn't have much effect on length of stay"
   ]
  },
  {
   "cell_type": "code",
   "execution_count": 19,
   "metadata": {},
   "outputs": [
    {
     "data": {
      "image/png": "[encoded data removed]",
      "text/plain": [
       "<matplotlib.figure.Figure at 0x127083d10>"
      ]
     },
     "metadata": {},
     "output_type": "display_data"
    }
   ],
   "source": [
    "data_3 = pd.concat([texas_data_2013['NUMSUBS'], texas_data_2013['LOS']], axis=1)\n",
    "f, ax = plt.subplots(figsize=(8, 6))\n",
    "fig = sns.boxplot(x='NUMSUBS', y=\"LOS\", data=data_3)\n",
    "fig.axis(ymin=0, ymax=40);"
   ]
  },
  {
   "cell_type": "markdown",
   "metadata": {},
   "source": [
    "Seems to be that 12-17 stays longest but not by far "
   ]
  },
  {
   "cell_type": "code",
   "execution_count": 20,
   "metadata": {},
   "outputs": [
    {
     "data": {
      "image/png": "[encoded data removed]",
      "text/plain": [
       "<matplotlib.figure.Figure at 0x127553650>"
      ]
     },
     "metadata": {},
     "output_type": "display_data"
    }
   ],
   "source": [
    "data_4 = pd.concat([texas_data_2013['AGE'], texas_data_2013['LOS']], axis=1)\n",
    "f, ax = plt.subplots(figsize=(8, 6))\n",
    "fig = sns.boxplot(x='AGE', y=\"LOS\", data=data_4)\n",
    "fig.axis(ymin=0, ymax=40);"
   ]
  },
  {
   "cell_type": "markdown",
   "metadata": {},
   "source": [
    "Let's dig into success outcome \n",
    "- Age doesn't seem to differ in success of outcome "
   ]
  },
  {
   "cell_type": "code",
   "execution_count": 21,
   "metadata": {},
   "outputs": [
    {
     "data": {
      "image/png": "[encoded data removed]",
      "text/plain": [
       "<matplotlib.figure.Figure at 0x12780ff90>"
      ]
     },
     "metadata": {},
     "output_type": "display_data"
    }
   ],
   "source": [
    "sns.barplot(x=\"REASON\", y=\"AGE\",  data=texas_data_2013);"
   ]
  },
  {
   "cell_type": "markdown",
   "metadata": {},
   "source": [
    "GENDER doesn't seem to mater for success"
   ]
  },
  {
   "cell_type": "code",
   "execution_count": 22,
   "metadata": {},
   "outputs": [
    {
     "data": {
      "text/plain": [
       "<matplotlib.axes._subplots.AxesSubplot at 0x127806110>"
      ]
     },
     "execution_count": 22,
     "metadata": {},
     "output_type": "execute_result"
    },
    {
     "data": {
      "image/png": "[encoded data removed]",
      "text/plain": [
       "<matplotlib.figure.Figure at 0x127d77490>"
      ]
     },
     "metadata": {},
     "output_type": "display_data"
    }
   ],
   "source": [
    "sns.barplot(x='REASON', y='GENDER', data=texas_data_2013)"
   ]
  },
  {
   "cell_type": "markdown",
   "metadata": {},
   "source": [
    "Frequency of use matters slightly, but more frequent user had higher success (but this could be attributed to other attributes that are linked to higher success rate like age, education, etc)"
   ]
  },
  {
   "cell_type": "code",
   "execution_count": 23,
   "metadata": {},
   "outputs": [
    {
     "data": {
      "text/plain": [
       "<matplotlib.axes._subplots.AxesSubplot at 0x127d98b90>"
      ]
     },
     "execution_count": 23,
     "metadata": {},
     "output_type": "execute_result"
    },
    {
     "data": {
      "image/png": "[encoded data removed]",
      "text/plain": [
       "<matplotlib.figure.Figure at 0x12780f750>"
      ]
     },
     "metadata": {},
     "output_type": "display_data"
    }
   ],
   "source": [
    "sns.barplot(x='REASON', y='FREQ1', data=texas_data_2013)"
   ]
  },
  {
   "cell_type": "markdown",
   "metadata": {},
   "source": [
    "Include only attributes that will be helpful in predicting outcomes. In general, Do not include attribute that has more than 20% Unknown. "
   ]
  },
  {
   "cell_type": "code",
   "execution_count": 24,
   "metadata": {},
   "outputs": [
    {
     "data": {
      "text/html": [
       "<div>\n",
       "<style>\n",
       "    .dataframe thead tr:only-child th {\n",
       "        text-align: right;\n",
       "    }\n",
       "\n",
       "    .dataframe thead th {\n",
       "        text-align: left;\n",
       "    }\n",
       "\n",
       "    .dataframe tbody tr th {\n",
       "        vertical-align: top;\n",
       "    }\n",
       "</style>\n",
       "<table border=\"1\" class=\"dataframe\">\n",
       "  <thead>\n",
       "    <tr style=\"text-align: right;\">\n",
       "      <th></th>\n",
       "      <th>CASEID</th>\n",
       "      <th>AGE</th>\n",
       "      <th>GENDER</th>\n",
       "      <th>RACE</th>\n",
       "      <th>EDUC</th>\n",
       "      <th>EMPLOY</th>\n",
       "      <th>LIVARAG</th>\n",
       "      <th>ARRESTS</th>\n",
       "      <th>PSYPROB</th>\n",
       "      <th>FREQ1</th>\n",
       "      <th>FRSTUSE1</th>\n",
       "      <th>MARSTAT</th>\n",
       "      <th>NOPRIOR</th>\n",
       "      <th>NUMSUBS</th>\n",
       "      <th>PREG</th>\n",
       "      <th>PSOURCE</th>\n",
       "      <th>LOS</th>\n",
       "      <th>REASON</th>\n",
       "    </tr>\n",
       "  </thead>\n",
       "  <tbody>\n",
       "    <tr>\n",
       "      <th>8373</th>\n",
       "      <td>20130008375</td>\n",
       "      <td>7</td>\n",
       "      <td>1</td>\n",
       "      <td>5</td>\n",
       "      <td>-9</td>\n",
       "      <td>1</td>\n",
       "      <td>3</td>\n",
       "      <td>0</td>\n",
       "      <td>-9</td>\n",
       "      <td>2</td>\n",
       "      <td>4</td>\n",
       "      <td>3</td>\n",
       "      <td>1</td>\n",
       "      <td>3</td>\n",
       "      <td>-9</td>\n",
       "      <td>5</td>\n",
       "      <td>8</td>\n",
       "      <td>0</td>\n",
       "    </tr>\n",
       "    <tr>\n",
       "      <th>24884</th>\n",
       "      <td>20130024886</td>\n",
       "      <td>6</td>\n",
       "      <td>2</td>\n",
       "      <td>5</td>\n",
       "      <td>-9</td>\n",
       "      <td>3</td>\n",
       "      <td>3</td>\n",
       "      <td>0</td>\n",
       "      <td>-9</td>\n",
       "      <td>1</td>\n",
       "      <td>4</td>\n",
       "      <td>1</td>\n",
       "      <td>1</td>\n",
       "      <td>3</td>\n",
       "      <td>1</td>\n",
       "      <td>6</td>\n",
       "      <td>33</td>\n",
       "      <td>0</td>\n",
       "    </tr>\n",
       "    <tr>\n",
       "      <th>29795</th>\n",
       "      <td>20130029799</td>\n",
       "      <td>4</td>\n",
       "      <td>2</td>\n",
       "      <td>5</td>\n",
       "      <td>3</td>\n",
       "      <td>2</td>\n",
       "      <td>3</td>\n",
       "      <td>0</td>\n",
       "      <td>-9</td>\n",
       "      <td>1</td>\n",
       "      <td>3</td>\n",
       "      <td>1</td>\n",
       "      <td>4</td>\n",
       "      <td>3</td>\n",
       "      <td>1</td>\n",
       "      <td>1</td>\n",
       "      <td>35</td>\n",
       "      <td>1</td>\n",
       "    </tr>\n",
       "    <tr>\n",
       "      <th>35275</th>\n",
       "      <td>20130035279</td>\n",
       "      <td>10</td>\n",
       "      <td>1</td>\n",
       "      <td>5</td>\n",
       "      <td>3</td>\n",
       "      <td>4</td>\n",
       "      <td>3</td>\n",
       "      <td>0</td>\n",
       "      <td>-9</td>\n",
       "      <td>4</td>\n",
       "      <td>6</td>\n",
       "      <td>1</td>\n",
       "      <td>3</td>\n",
       "      <td>1</td>\n",
       "      <td>-9</td>\n",
       "      <td>6</td>\n",
       "      <td>23</td>\n",
       "      <td>0</td>\n",
       "    </tr>\n",
       "    <tr>\n",
       "      <th>37306</th>\n",
       "      <td>20130037310</td>\n",
       "      <td>5</td>\n",
       "      <td>2</td>\n",
       "      <td>5</td>\n",
       "      <td>3</td>\n",
       "      <td>3</td>\n",
       "      <td>2</td>\n",
       "      <td>0</td>\n",
       "      <td>-9</td>\n",
       "      <td>5</td>\n",
       "      <td>3</td>\n",
       "      <td>1</td>\n",
       "      <td>1</td>\n",
       "      <td>1</td>\n",
       "      <td>1</td>\n",
       "      <td>2</td>\n",
       "      <td>34</td>\n",
       "      <td>0</td>\n",
       "    </tr>\n",
       "    <tr>\n",
       "      <th>41958</th>\n",
       "      <td>20130041962</td>\n",
       "      <td>10</td>\n",
       "      <td>2</td>\n",
       "      <td>5</td>\n",
       "      <td>3</td>\n",
       "      <td>3</td>\n",
       "      <td>3</td>\n",
       "      <td>0</td>\n",
       "      <td>-9</td>\n",
       "      <td>5</td>\n",
       "      <td>10</td>\n",
       "      <td>3</td>\n",
       "      <td>1</td>\n",
       "      <td>2</td>\n",
       "      <td>2</td>\n",
       "      <td>3</td>\n",
       "      <td>35</td>\n",
       "      <td>0</td>\n",
       "    </tr>\n",
       "    <tr>\n",
       "      <th>53497</th>\n",
       "      <td>20130053502</td>\n",
       "      <td>10</td>\n",
       "      <td>1</td>\n",
       "      <td>-9</td>\n",
       "      <td>4</td>\n",
       "      <td>3</td>\n",
       "      <td>2</td>\n",
       "      <td>0</td>\n",
       "      <td>-9</td>\n",
       "      <td>5</td>\n",
       "      <td>5</td>\n",
       "      <td>1</td>\n",
       "      <td>5</td>\n",
       "      <td>2</td>\n",
       "      <td>-9</td>\n",
       "      <td>2</td>\n",
       "      <td>36</td>\n",
       "      <td>1</td>\n",
       "    </tr>\n",
       "    <tr>\n",
       "      <th>55592</th>\n",
       "      <td>20130055597</td>\n",
       "      <td>8</td>\n",
       "      <td>2</td>\n",
       "      <td>5</td>\n",
       "      <td>3</td>\n",
       "      <td>4</td>\n",
       "      <td>3</td>\n",
       "      <td>0</td>\n",
       "      <td>-9</td>\n",
       "      <td>5</td>\n",
       "      <td>7</td>\n",
       "      <td>3</td>\n",
       "      <td>5</td>\n",
       "      <td>1</td>\n",
       "      <td>2</td>\n",
       "      <td>7</td>\n",
       "      <td>35</td>\n",
       "      <td>0</td>\n",
       "    </tr>\n",
       "    <tr>\n",
       "      <th>58451</th>\n",
       "      <td>20130058456</td>\n",
       "      <td>5</td>\n",
       "      <td>2</td>\n",
       "      <td>21</td>\n",
       "      <td>3</td>\n",
       "      <td>3</td>\n",
       "      <td>3</td>\n",
       "      <td>0</td>\n",
       "      <td>-9</td>\n",
       "      <td>1</td>\n",
       "      <td>3</td>\n",
       "      <td>1</td>\n",
       "      <td>1</td>\n",
       "      <td>1</td>\n",
       "      <td>1</td>\n",
       "      <td>6</td>\n",
       "      <td>26</td>\n",
       "      <td>1</td>\n",
       "    </tr>\n",
       "    <tr>\n",
       "      <th>73220</th>\n",
       "      <td>20130073227</td>\n",
       "      <td>8</td>\n",
       "      <td>2</td>\n",
       "      <td>4</td>\n",
       "      <td>4</td>\n",
       "      <td>4</td>\n",
       "      <td>3</td>\n",
       "      <td>0</td>\n",
       "      <td>-9</td>\n",
       "      <td>5</td>\n",
       "      <td>7</td>\n",
       "      <td>1</td>\n",
       "      <td>1</td>\n",
       "      <td>2</td>\n",
       "      <td>1</td>\n",
       "      <td>1</td>\n",
       "      <td>32</td>\n",
       "      <td>1</td>\n",
       "    </tr>\n",
       "  </tbody>\n",
       "</table>\n",
       "</div>"
      ],
      "text/plain": [
       "            CASEID  AGE  GENDER  RACE  EDUC  EMPLOY  LIVARAG  ARRESTS  \\\n",
       "8373   20130008375    7       1     5    -9       1        3        0   \n",
       "24884  20130024886    6       2     5    -9       3        3        0   \n",
       "29795  20130029799    4       2     5     3       2        3        0   \n",
       "35275  20130035279   10       1     5     3       4        3        0   \n",
       "37306  20130037310    5       2     5     3       3        2        0   \n",
       "41958  20130041962   10       2     5     3       3        3        0   \n",
       "53497  20130053502   10       1    -9     4       3        2        0   \n",
       "55592  20130055597    8       2     5     3       4        3        0   \n",
       "58451  20130058456    5       2    21     3       3        3        0   \n",
       "73220  20130073227    8       2     4     4       4        3        0   \n",
       "\n",
       "       PSYPROB  FREQ1  FRSTUSE1  MARSTAT  NOPRIOR  NUMSUBS  PREG  PSOURCE  \\\n",
       "8373        -9      2         4        3        1        3    -9        5   \n",
       "24884       -9      1         4        1        1        3     1        6   \n",
       "29795       -9      1         3        1        4        3     1        1   \n",
       "35275       -9      4         6        1        3        1    -9        6   \n",
       "37306       -9      5         3        1        1        1     1        2   \n",
       "41958       -9      5        10        3        1        2     2        3   \n",
       "53497       -9      5         5        1        5        2    -9        2   \n",
       "55592       -9      5         7        3        5        1     2        7   \n",
       "58451       -9      1         3        1        1        1     1        6   \n",
       "73220       -9      5         7        1        1        2     1        1   \n",
       "\n",
       "       LOS  REASON  \n",
       "8373     8       0  \n",
       "24884   33       0  \n",
       "29795   35       1  \n",
       "35275   23       0  \n",
       "37306   34       0  \n",
       "41958   35       0  \n",
       "53497   36       1  \n",
       "55592   35       0  \n",
       "58451   26       1  \n",
       "73220   32       1  "
      ]
     },
     "execution_count": 24,
     "metadata": {},
     "output_type": "execute_result"
    }
   ],
   "source": [
    "field_list = ['CASEID', 'AGE', 'GENDER', 'RACE', 'EDUC', 'EMPLOY', 'LIVARAG', 'ARRESTS', 'PSYPROB', 'FREQ1','FRSTUSE1','MARSTAT','NOPRIOR','NUMSUBS','PREG','PSOURCE','LOS', 'REASON']\n",
    "texas_2013 = texas_data_2013[field_list]\n",
    "texas_2013[:10]"
   ]
  },
  {
   "cell_type": "markdown",
   "metadata": {},
   "source": [
    "Obviously pregnancy and gender is correlated. FREQ1 and EDUC's correlation is around 0.6, EDUC and LIVARAG is around 0.4 \n",
    "\n"
   ]
  },
  {
   "cell_type": "code",
   "execution_count": 25,
   "metadata": {},
   "outputs": [
    {
     "data": {
      "text/plain": [
       "<matplotlib.axes._subplots.AxesSubplot at 0x1243d2290>"
      ]
     },
     "execution_count": 25,
     "metadata": {},
     "output_type": "execute_result"
    },
    {
     "data": {
      "image/png": "[encoded data removed]",
      "text/plain": [
       "<matplotlib.figure.Figure at 0x1243db550>"
      ]
     },
     "metadata": {},
     "output_type": "display_data"
    }
   ],
   "source": [
    "corr = texas_2013.corr()\n",
    "sns.heatmap(corr, \n",
    "            xticklabels=corr.columns.values,\n",
    "            yticklabels=corr.columns.values)"
   ]
  },
  {
   "cell_type": "markdown",
   "metadata": {},
   "source": [
    "# Data Preprosessing \n",
    "\n",
    "Impute missing values, dummy code in order to fit into models (from binned variables or categorical variables), and design our outcome variables into two outcomes (success/failure), and take samples from each year and concatenate them to decrease computational time. "
   ]
  },
  {
   "cell_type": "code",
   "execution_count": 2,
   "metadata": {},
   "outputs": [],
   "source": [
    "data07=pd.read_csv(\"TEDS-D-2007-DS0001-data-excel.tsv\", sep='\\t')\n",
    "data08=pd.read_csv(\"TEDS-D-2008-DS0001-data-excel.tsv\", sep='\\t')\n",
    "data09=pd.read_csv(\"TEDS-D-2009-DS0001-data-excel.tsv\", sep='\\t')\n",
    "data10=pd.read_csv(\"TEDS-D-2010-DS0001-data-excel.tsv\", sep='\\t')\n",
    "data11=pd.read_csv(\"TEDS-D-2011-DS0001-data-excel.tsv\", sep='\\t')\n",
    "data12=pd.read_csv(\"TEDS-D-2012-DS0001-data-excel.csv\")\n",
    "sample07=data07.sample(n=10000)\n",
    "sample08=data08.sample(n=10000)\n",
    "sample09=data09.sample(n=10000)\n",
    "sample10=data10.sample(n=10000)\n",
    "sample11=data11.sample(n=10000)\n",
    "sample12=data12.sample(n=10000)"
   ]
  },
  {
   "cell_type": "code",
   "execution_count": 3,
   "metadata": {},
   "outputs": [
    {
     "data": {
      "text/html": [
       "<div>\n",
       "<style>\n",
       "    .dataframe thead tr:only-child th {\n",
       "        text-align: right;\n",
       "    }\n",
       "\n",
       "    .dataframe thead th {\n",
       "        text-align: left;\n",
       "    }\n",
       "\n",
       "    .dataframe tbody tr th {\n",
       "        vertical-align: top;\n",
       "    }\n",
       "</style>\n",
       "<table border=\"1\" class=\"dataframe\">\n",
       "  <thead>\n",
       "    <tr style=\"text-align: right;\">\n",
       "      <th></th>\n",
       "      <th>AGE</th>\n",
       "      <th>ALCDRUG</th>\n",
       "      <th>ALCFLG</th>\n",
       "      <th>AMPHFLG</th>\n",
       "      <th>ARRESTS</th>\n",
       "      <th>BARBFLG</th>\n",
       "      <th>BENZFLG</th>\n",
       "      <th>CASEID</th>\n",
       "      <th>CBSA</th>\n",
       "      <th>COKEFLG</th>\n",
       "      <th>...</th>\n",
       "      <th>ROUTE3</th>\n",
       "      <th>SEDHPFLG</th>\n",
       "      <th>SERVSETD</th>\n",
       "      <th>STFIPS</th>\n",
       "      <th>STIMFLG</th>\n",
       "      <th>SUB1</th>\n",
       "      <th>SUB2</th>\n",
       "      <th>SUB3</th>\n",
       "      <th>TRNQFLG</th>\n",
       "      <th>VET</th>\n",
       "    </tr>\n",
       "  </thead>\n",
       "  <tbody>\n",
       "    <tr>\n",
       "      <th>957203</th>\n",
       "      <td>5</td>\n",
       "      <td>3</td>\n",
       "      <td>1</td>\n",
       "      <td>0</td>\n",
       "      <td>NaN</td>\n",
       "      <td>0</td>\n",
       "      <td>0</td>\n",
       "      <td>957204</td>\n",
       "      <td>22220</td>\n",
       "      <td>0</td>\n",
       "      <td>...</td>\n",
       "      <td>-9</td>\n",
       "      <td>0</td>\n",
       "      <td>4</td>\n",
       "      <td>5</td>\n",
       "      <td>0</td>\n",
       "      <td>4</td>\n",
       "      <td>2</td>\n",
       "      <td>-9</td>\n",
       "      <td>0</td>\n",
       "      <td>2</td>\n",
       "    </tr>\n",
       "    <tr>\n",
       "      <th>1094234</th>\n",
       "      <td>10</td>\n",
       "      <td>2</td>\n",
       "      <td>0</td>\n",
       "      <td>0</td>\n",
       "      <td>NaN</td>\n",
       "      <td>0</td>\n",
       "      <td>0</td>\n",
       "      <td>1094235</td>\n",
       "      <td>27740</td>\n",
       "      <td>0</td>\n",
       "      <td>...</td>\n",
       "      <td>-9</td>\n",
       "      <td>0</td>\n",
       "      <td>4</td>\n",
       "      <td>47</td>\n",
       "      <td>0</td>\n",
       "      <td>7</td>\n",
       "      <td>1</td>\n",
       "      <td>1</td>\n",
       "      <td>0</td>\n",
       "      <td>2</td>\n",
       "    </tr>\n",
       "    <tr>\n",
       "      <th>387377</th>\n",
       "      <td>9</td>\n",
       "      <td>3</td>\n",
       "      <td>1</td>\n",
       "      <td>0</td>\n",
       "      <td>NaN</td>\n",
       "      <td>0</td>\n",
       "      <td>0</td>\n",
       "      <td>387378</td>\n",
       "      <td>19820</td>\n",
       "      <td>1</td>\n",
       "      <td>...</td>\n",
       "      <td>-9</td>\n",
       "      <td>0</td>\n",
       "      <td>7</td>\n",
       "      <td>26</td>\n",
       "      <td>0</td>\n",
       "      <td>2</td>\n",
       "      <td>3</td>\n",
       "      <td>1</td>\n",
       "      <td>0</td>\n",
       "      <td>2</td>\n",
       "    </tr>\n",
       "    <tr>\n",
       "      <th>850942</th>\n",
       "      <td>10</td>\n",
       "      <td>3</td>\n",
       "      <td>1</td>\n",
       "      <td>0</td>\n",
       "      <td>NaN</td>\n",
       "      <td>0</td>\n",
       "      <td>0</td>\n",
       "      <td>850943</td>\n",
       "      <td>35620</td>\n",
       "      <td>1</td>\n",
       "      <td>...</td>\n",
       "      <td>-9</td>\n",
       "      <td>0</td>\n",
       "      <td>4</td>\n",
       "      <td>36</td>\n",
       "      <td>0</td>\n",
       "      <td>3</td>\n",
       "      <td>2</td>\n",
       "      <td>1</td>\n",
       "      <td>0</td>\n",
       "      <td>2</td>\n",
       "    </tr>\n",
       "    <tr>\n",
       "      <th>429557</th>\n",
       "      <td>5</td>\n",
       "      <td>3</td>\n",
       "      <td>1</td>\n",
       "      <td>0</td>\n",
       "      <td>NaN</td>\n",
       "      <td>0</td>\n",
       "      <td>0</td>\n",
       "      <td>429558</td>\n",
       "      <td>40380</td>\n",
       "      <td>0</td>\n",
       "      <td>...</td>\n",
       "      <td>-9</td>\n",
       "      <td>0</td>\n",
       "      <td>4</td>\n",
       "      <td>36</td>\n",
       "      <td>0</td>\n",
       "      <td>2</td>\n",
       "      <td>7</td>\n",
       "      <td>1</td>\n",
       "      <td>0</td>\n",
       "      <td>2</td>\n",
       "    </tr>\n",
       "    <tr>\n",
       "      <th>1011407</th>\n",
       "      <td>4</td>\n",
       "      <td>3</td>\n",
       "      <td>1</td>\n",
       "      <td>0</td>\n",
       "      <td>NaN</td>\n",
       "      <td>0</td>\n",
       "      <td>0</td>\n",
       "      <td>1011408</td>\n",
       "      <td>47900</td>\n",
       "      <td>0</td>\n",
       "      <td>...</td>\n",
       "      <td>-9</td>\n",
       "      <td>0</td>\n",
       "      <td>7</td>\n",
       "      <td>24</td>\n",
       "      <td>0</td>\n",
       "      <td>4</td>\n",
       "      <td>2</td>\n",
       "      <td>1</td>\n",
       "      <td>0</td>\n",
       "      <td>-9</td>\n",
       "    </tr>\n",
       "    <tr>\n",
       "      <th>134699</th>\n",
       "      <td>8</td>\n",
       "      <td>3</td>\n",
       "      <td>1</td>\n",
       "      <td>0</td>\n",
       "      <td>NaN</td>\n",
       "      <td>0</td>\n",
       "      <td>0</td>\n",
       "      <td>134700</td>\n",
       "      <td>19820</td>\n",
       "      <td>0</td>\n",
       "      <td>...</td>\n",
       "      <td>-9</td>\n",
       "      <td>0</td>\n",
       "      <td>4</td>\n",
       "      <td>26</td>\n",
       "      <td>0</td>\n",
       "      <td>5</td>\n",
       "      <td>2</td>\n",
       "      <td>1</td>\n",
       "      <td>0</td>\n",
       "      <td>2</td>\n",
       "    </tr>\n",
       "    <tr>\n",
       "      <th>973056</th>\n",
       "      <td>3</td>\n",
       "      <td>3</td>\n",
       "      <td>1</td>\n",
       "      <td>0</td>\n",
       "      <td>NaN</td>\n",
       "      <td>0</td>\n",
       "      <td>0</td>\n",
       "      <td>973057</td>\n",
       "      <td>-9</td>\n",
       "      <td>0</td>\n",
       "      <td>...</td>\n",
       "      <td>-9</td>\n",
       "      <td>0</td>\n",
       "      <td>7</td>\n",
       "      <td>24</td>\n",
       "      <td>0</td>\n",
       "      <td>4</td>\n",
       "      <td>2</td>\n",
       "      <td>1</td>\n",
       "      <td>0</td>\n",
       "      <td>-9</td>\n",
       "    </tr>\n",
       "    <tr>\n",
       "      <th>972098</th>\n",
       "      <td>10</td>\n",
       "      <td>2</td>\n",
       "      <td>0</td>\n",
       "      <td>0</td>\n",
       "      <td>NaN</td>\n",
       "      <td>0</td>\n",
       "      <td>0</td>\n",
       "      <td>972099</td>\n",
       "      <td>26420</td>\n",
       "      <td>1</td>\n",
       "      <td>...</td>\n",
       "      <td>-9</td>\n",
       "      <td>0</td>\n",
       "      <td>4</td>\n",
       "      <td>48</td>\n",
       "      <td>0</td>\n",
       "      <td>3</td>\n",
       "      <td>1</td>\n",
       "      <td>1</td>\n",
       "      <td>0</td>\n",
       "      <td>2</td>\n",
       "    </tr>\n",
       "    <tr>\n",
       "      <th>1296614</th>\n",
       "      <td>8</td>\n",
       "      <td>3</td>\n",
       "      <td>1</td>\n",
       "      <td>0</td>\n",
       "      <td>NaN</td>\n",
       "      <td>0</td>\n",
       "      <td>0</td>\n",
       "      <td>1296615</td>\n",
       "      <td>38900</td>\n",
       "      <td>1</td>\n",
       "      <td>...</td>\n",
       "      <td>3</td>\n",
       "      <td>0</td>\n",
       "      <td>7</td>\n",
       "      <td>41</td>\n",
       "      <td>0</td>\n",
       "      <td>2</td>\n",
       "      <td>4</td>\n",
       "      <td>3</td>\n",
       "      <td>0</td>\n",
       "      <td>-9</td>\n",
       "    </tr>\n",
       "  </tbody>\n",
       "</table>\n",
       "<p>10 rows × 65 columns</p>\n",
       "</div>"
      ],
      "text/plain": [
       "         AGE  ALCDRUG  ALCFLG  AMPHFLG  ARRESTS  BARBFLG  BENZFLG   CASEID  \\\n",
       "957203     5        3       1        0      NaN        0        0   957204   \n",
       "1094234   10        2       0        0      NaN        0        0  1094235   \n",
       "387377     9        3       1        0      NaN        0        0   387378   \n",
       "850942    10        3       1        0      NaN        0        0   850943   \n",
       "429557     5        3       1        0      NaN        0        0   429558   \n",
       "1011407    4        3       1        0      NaN        0        0  1011408   \n",
       "134699     8        3       1        0      NaN        0        0   134700   \n",
       "973056     3        3       1        0      NaN        0        0   973057   \n",
       "972098    10        2       0        0      NaN        0        0   972099   \n",
       "1296614    8        3       1        0      NaN        0        0  1296615   \n",
       "\n",
       "          CBSA  COKEFLG ...   ROUTE3  SEDHPFLG  SERVSETD  STFIPS  STIMFLG  \\\n",
       "957203   22220        0 ...       -9         0         4       5        0   \n",
       "1094234  27740        0 ...       -9         0         4      47        0   \n",
       "387377   19820        1 ...       -9         0         7      26        0   \n",
       "850942   35620        1 ...       -9         0         4      36        0   \n",
       "429557   40380        0 ...       -9         0         4      36        0   \n",
       "1011407  47900        0 ...       -9         0         7      24        0   \n",
       "134699   19820        0 ...       -9         0         4      26        0   \n",
       "973056      -9        0 ...       -9         0         7      24        0   \n",
       "972098   26420        1 ...       -9         0         4      48        0   \n",
       "1296614  38900        1 ...        3         0         7      41        0   \n",
       "\n",
       "         SUB1  SUB2  SUB3  TRNQFLG  VET  \n",
       "957203      4     2    -9        0    2  \n",
       "1094234     7     1     1        0    2  \n",
       "387377      2     3     1        0    2  \n",
       "850942      3     2     1        0    2  \n",
       "429557      2     7     1        0    2  \n",
       "1011407     4     2     1        0   -9  \n",
       "134699      5     2     1        0    2  \n",
       "973056      4     2     1        0   -9  \n",
       "972098      3     1     1        0    2  \n",
       "1296614     2     4     3        0   -9  \n",
       "\n",
       "[10 rows x 65 columns]"
      ]
     },
     "execution_count": 3,
     "metadata": {},
     "output_type": "execute_result"
    }
   ],
   "source": [
    "frames=[sample07,sample08,sample09,sample10,sample11,sample12]\n",
    "full_data=pd.concat(frames)\n",
    "full_data[:10]"
   ]
  },
  {
   "cell_type": "code",
   "execution_count": 4,
   "metadata": {},
   "outputs": [
    {
     "name": "stderr",
     "output_type": "stream",
     "text": [
      "/Users/chloekwon/anaconda/lib/python2.7/site-packages/ipykernel_launcher.py:36: SettingWithCopyWarning: \n",
      "A value is trying to be set on a copy of a slice from a DataFrame.\n",
      "Try using .loc[row_indexer,col_indexer] = value instead\n",
      "\n",
      "See the caveats in the documentation: http://pandas.pydata.org/pandas-docs/stable/indexing.html#indexing-view-versus-copy\n"
     ]
    }
   ],
   "source": [
    "#convert age to mean age--one less dummy\n",
    "age_dict={2:13, 3:16, 4:19, 5:23, 6:27, 7:32, 8:37, 9:42, 10:47, 11:52, 12:55}\n",
    "def group_age(s):\n",
    "    if s in age_dict.keys():\n",
    "        return age_dict[s]\n",
    "full_data['AGE']=full_data['AGE'].map(group_age)\n",
    "\n",
    "#delete CASEID column\n",
    "del full_data['CASEID']\n",
    "\n",
    "#update REASON column to just 0 or 1's\n",
    "#updating reason column to just 1 and 0's \n",
    "def reason_func(s):\n",
    "    if s==1:\n",
    "        return 1\n",
    "    else:\n",
    "        return 0\n",
    "    #question- should those be strings or integers?\n",
    "    \n",
    "##replace NANs with -9\n",
    "full_data=full_data.replace(np.nan, '-9')\n",
    "\n",
    "full_data['REASON']=full_data['REASON'].map(reason_func)\n",
    "collist = full_data.columns.tolist()\n",
    "collist.remove('ARRESTS')\n",
    "collist.remove('DAYWAIT')\n",
    "collist.remove('NOPRIOR')\n",
    "collist.remove('NUMSUBS')\n",
    "collist.remove('AGE')\n",
    "collist.remove('LOS')\n",
    "collist.remove('REASON')\n",
    "cat_df = full_data[collist]\n",
    "\n",
    "#make these numbers strings so that get dummies will work\n",
    "for i in cat_df.columns:\n",
    "    cat_df[i]=cat_df[i].astype(str)"
   ]
  },
  {
   "cell_type": "code",
   "execution_count": 5,
   "metadata": {},
   "outputs": [],
   "source": [
    "df_with_dummies = pd.get_dummies( cat_df , prefix=cat_df.columns.tolist())\n",
    "\n",
    "#add back the numeric columns (age, arrests, daywait, no prior, numsubs)\n",
    "data=df_with_dummies\n",
    "data['AGE']=full_data['AGE']\n",
    "data['ARRESTS']=full_data['ARRESTS'].astype(int)\n",
    "data['DAYWAIT']=full_data['DAYWAIT']\n",
    "data['NOPRIOR']=full_data['NOPRIOR']\n",
    "data['NUMSUBS']=full_data['NUMSUBS']\n",
    "data['LOS']=full_data['LOS']\n",
    "data['REASON']=full_data['REASON']\n",
    "\n",
    "data['ARRESTS']=data['ARRESTS'].replace(-9,0)\n",
    "data['DAYWAIT']=data['DAYWAIT'].replace(-9,0)\n",
    "data['NOPRIOR']=data['NOPRIOR'].replace(-9,0)"
   ]
  },
  {
   "cell_type": "code",
   "execution_count": 35,
   "metadata": {},
   "outputs": [
    {
     "data": {
      "text/html": [
       "<div>\n",
       "<style>\n",
       "    .dataframe thead tr:only-child th {\n",
       "        text-align: right;\n",
       "    }\n",
       "\n",
       "    .dataframe thead th {\n",
       "        text-align: left;\n",
       "    }\n",
       "\n",
       "    .dataframe tbody tr th {\n",
       "        vertical-align: top;\n",
       "    }\n",
       "</style>\n",
       "<table border=\"1\" class=\"dataframe\">\n",
       "  <thead>\n",
       "    <tr style=\"text-align: right;\">\n",
       "      <th></th>\n",
       "      <th>ALCDRUG_0</th>\n",
       "      <th>ALCDRUG_1</th>\n",
       "      <th>ALCDRUG_2</th>\n",
       "      <th>ALCDRUG_3</th>\n",
       "      <th>ALCFLG_0</th>\n",
       "      <th>ALCFLG_1</th>\n",
       "      <th>AMPHFLG_0</th>\n",
       "      <th>AMPHFLG_1</th>\n",
       "      <th>BARBFLG_0</th>\n",
       "      <th>BARBFLG_1</th>\n",
       "      <th>...</th>\n",
       "      <th>VET_-9</th>\n",
       "      <th>VET_1</th>\n",
       "      <th>VET_2</th>\n",
       "      <th>AGE</th>\n",
       "      <th>ARRESTS</th>\n",
       "      <th>DAYWAIT</th>\n",
       "      <th>NOPRIOR</th>\n",
       "      <th>NUMSUBS</th>\n",
       "      <th>LOS</th>\n",
       "      <th>REASON</th>\n",
       "    </tr>\n",
       "  </thead>\n",
       "  <tbody>\n",
       "    <tr>\n",
       "      <th>1161526</th>\n",
       "      <td>0</td>\n",
       "      <td>1</td>\n",
       "      <td>0</td>\n",
       "      <td>0</td>\n",
       "      <td>0</td>\n",
       "      <td>1</td>\n",
       "      <td>1</td>\n",
       "      <td>0</td>\n",
       "      <td>1</td>\n",
       "      <td>0</td>\n",
       "      <td>...</td>\n",
       "      <td>0</td>\n",
       "      <td>0</td>\n",
       "      <td>1</td>\n",
       "      <td>27</td>\n",
       "      <td>0</td>\n",
       "      <td>30</td>\n",
       "      <td>0</td>\n",
       "      <td>1</td>\n",
       "      <td>34</td>\n",
       "      <td>1</td>\n",
       "    </tr>\n",
       "    <tr>\n",
       "      <th>463040</th>\n",
       "      <td>0</td>\n",
       "      <td>0</td>\n",
       "      <td>1</td>\n",
       "      <td>0</td>\n",
       "      <td>1</td>\n",
       "      <td>0</td>\n",
       "      <td>1</td>\n",
       "      <td>0</td>\n",
       "      <td>1</td>\n",
       "      <td>0</td>\n",
       "      <td>...</td>\n",
       "      <td>0</td>\n",
       "      <td>0</td>\n",
       "      <td>1</td>\n",
       "      <td>19</td>\n",
       "      <td>0</td>\n",
       "      <td>0</td>\n",
       "      <td>1</td>\n",
       "      <td>1</td>\n",
       "      <td>14</td>\n",
       "      <td>1</td>\n",
       "    </tr>\n",
       "    <tr>\n",
       "      <th>1331156</th>\n",
       "      <td>0</td>\n",
       "      <td>1</td>\n",
       "      <td>0</td>\n",
       "      <td>0</td>\n",
       "      <td>0</td>\n",
       "      <td>1</td>\n",
       "      <td>1</td>\n",
       "      <td>0</td>\n",
       "      <td>1</td>\n",
       "      <td>0</td>\n",
       "      <td>...</td>\n",
       "      <td>0</td>\n",
       "      <td>0</td>\n",
       "      <td>1</td>\n",
       "      <td>47</td>\n",
       "      <td>0</td>\n",
       "      <td>0</td>\n",
       "      <td>0</td>\n",
       "      <td>1</td>\n",
       "      <td>33</td>\n",
       "      <td>1</td>\n",
       "    </tr>\n",
       "    <tr>\n",
       "      <th>1484766</th>\n",
       "      <td>0</td>\n",
       "      <td>0</td>\n",
       "      <td>0</td>\n",
       "      <td>1</td>\n",
       "      <td>0</td>\n",
       "      <td>1</td>\n",
       "      <td>1</td>\n",
       "      <td>0</td>\n",
       "      <td>1</td>\n",
       "      <td>0</td>\n",
       "      <td>...</td>\n",
       "      <td>0</td>\n",
       "      <td>1</td>\n",
       "      <td>0</td>\n",
       "      <td>55</td>\n",
       "      <td>0</td>\n",
       "      <td>0</td>\n",
       "      <td>3</td>\n",
       "      <td>2</td>\n",
       "      <td>3</td>\n",
       "      <td>1</td>\n",
       "    </tr>\n",
       "    <tr>\n",
       "      <th>1320203</th>\n",
       "      <td>0</td>\n",
       "      <td>1</td>\n",
       "      <td>0</td>\n",
       "      <td>0</td>\n",
       "      <td>0</td>\n",
       "      <td>1</td>\n",
       "      <td>1</td>\n",
       "      <td>0</td>\n",
       "      <td>1</td>\n",
       "      <td>0</td>\n",
       "      <td>...</td>\n",
       "      <td>0</td>\n",
       "      <td>0</td>\n",
       "      <td>1</td>\n",
       "      <td>19</td>\n",
       "      <td>0</td>\n",
       "      <td>0</td>\n",
       "      <td>1</td>\n",
       "      <td>1</td>\n",
       "      <td>33</td>\n",
       "      <td>0</td>\n",
       "    </tr>\n",
       "  </tbody>\n",
       "</table>\n",
       "<p>5 rows × 892 columns</p>\n",
       "</div>"
      ],
      "text/plain": [
       "         ALCDRUG_0  ALCDRUG_1  ALCDRUG_2  ALCDRUG_3  ALCFLG_0  ALCFLG_1  \\\n",
       "1161526          0          1          0          0         0         1   \n",
       "463040           0          0          1          0         1         0   \n",
       "1331156          0          1          0          0         0         1   \n",
       "1484766          0          0          0          1         0         1   \n",
       "1320203          0          1          0          0         0         1   \n",
       "\n",
       "         AMPHFLG_0  AMPHFLG_1  BARBFLG_0  BARBFLG_1   ...    VET_-9  VET_1  \\\n",
       "1161526          1          0          1          0   ...         0      0   \n",
       "463040           1          0          1          0   ...         0      0   \n",
       "1331156          1          0          1          0   ...         0      0   \n",
       "1484766          1          0          1          0   ...         0      1   \n",
       "1320203          1          0          1          0   ...         0      0   \n",
       "\n",
       "         VET_2  AGE  ARRESTS  DAYWAIT  NOPRIOR  NUMSUBS  LOS  REASON  \n",
       "1161526      1   27        0       30        0        1   34       1  \n",
       "463040       1   19        0        0        1        1   14       1  \n",
       "1331156      1   47        0        0        0        1   33       1  \n",
       "1484766      0   55        0        0        3        2    3       1  \n",
       "1320203      1   19        0        0        1        1   33       0  \n",
       "\n",
       "[5 rows x 892 columns]"
      ]
     },
     "execution_count": 35,
     "metadata": {},
     "output_type": "execute_result"
    }
   ],
   "source": [
    "data.head()"
   ]
  },
  {
   "cell_type": "markdown",
   "metadata": {},
   "source": [
    "# Feature Importance/Selection "
   ]
  },
  {
   "cell_type": "markdown",
   "metadata": {},
   "source": [
    "Since we have 64 variables (and more due to dummy coding - more on this later), we want to see if all or any variables are important in predicting our dependent variables (LOS and REASON) using various methods "
   ]
  },
  {
   "cell_type": "markdown",
   "metadata": {},
   "source": [
    "Using RandomForestRegressor to see if we can narrow down the attributes based on their feature importances \n",
    "- SERVSTED (Service setting at discharge) seemed most important in feature (with SERVSETD_2 importance at 0.3) but since the dummy coded SERVSTED scored pretty low as well as other variables, we should keep them to observe"
   ]
  },
  {
   "cell_type": "code",
   "execution_count": 34,
   "metadata": {},
   "outputs": [],
   "source": [
    "from sklearn.ensemble import RandomForestRegressor \n",
    "\n",
    "\n",
    "y_all = data['LOS'] \n",
    "X_all = data.drop('LOS', axis = 1)\n",
    "names = X_all.columns \n",
    "\n",
    "rf = RandomForestRegressor() \n",
    "rf.fit(X_all, y_all)\n",
    "\n",
    "# sorted(zip(map(lambda x: round(x, 4), rf.feature_importances_), names), reverse=True)\n",
    "df = pd.DataFrame(names, map(lambda x: round(x,4), rf.feature_importances_))"
   ]
  },
  {
   "cell_type": "code",
   "execution_count": 71,
   "metadata": {},
   "outputs": [],
   "source": [
    "df = df.reset_index()\n",
    "df.columns = ['Feature Importance', 'Feature']"
   ]
  },
  {
   "cell_type": "code",
   "execution_count": 72,
   "metadata": {},
   "outputs": [
    {
     "data": {
      "text/html": [
       "<div>\n",
       "<style>\n",
       "    .dataframe thead tr:only-child th {\n",
       "        text-align: right;\n",
       "    }\n",
       "\n",
       "    .dataframe thead th {\n",
       "        text-align: left;\n",
       "    }\n",
       "\n",
       "    .dataframe tbody tr th {\n",
       "        vertical-align: top;\n",
       "    }\n",
       "</style>\n",
       "<table border=\"1\" class=\"dataframe\">\n",
       "  <thead>\n",
       "    <tr style=\"text-align: right;\">\n",
       "      <th></th>\n",
       "      <th>Feature Importance</th>\n",
       "      <th>Feature</th>\n",
       "    </tr>\n",
       "  </thead>\n",
       "  <tbody>\n",
       "    <tr>\n",
       "      <th>762</th>\n",
       "      <td>0.3275</td>\n",
       "      <td>SERVSETD_2</td>\n",
       "    </tr>\n",
       "    <tr>\n",
       "      <th>761</th>\n",
       "      <td>0.1102</td>\n",
       "      <td>SERVSETD_1</td>\n",
       "    </tr>\n",
       "    <tr>\n",
       "      <th>764</th>\n",
       "      <td>0.0353</td>\n",
       "      <td>SERVSETD_4</td>\n",
       "    </tr>\n",
       "    <tr>\n",
       "      <th>890</th>\n",
       "      <td>0.0324</td>\n",
       "      <td>REASON</td>\n",
       "    </tr>\n",
       "    <tr>\n",
       "      <th>796</th>\n",
       "      <td>0.0197</td>\n",
       "      <td>STFIPS_37</td>\n",
       "    </tr>\n",
       "    <tr>\n",
       "      <th>885</th>\n",
       "      <td>0.0155</td>\n",
       "      <td>AGE</td>\n",
       "    </tr>\n",
       "    <tr>\n",
       "      <th>781</th>\n",
       "      <td>0.0153</td>\n",
       "      <td>STFIPS_21</td>\n",
       "    </tr>\n",
       "    <tr>\n",
       "      <th>768</th>\n",
       "      <td>0.0132</td>\n",
       "      <td>SERVSETD_8</td>\n",
       "    </tr>\n",
       "    <tr>\n",
       "      <th>888</th>\n",
       "      <td>0.0099</td>\n",
       "      <td>NOPRIOR</td>\n",
       "    </tr>\n",
       "    <tr>\n",
       "      <th>887</th>\n",
       "      <td>0.0078</td>\n",
       "      <td>DAYWAIT</td>\n",
       "    </tr>\n",
       "  </tbody>\n",
       "</table>\n",
       "</div>"
      ],
      "text/plain": [
       "     Feature Importance     Feature\n",
       "762              0.3275  SERVSETD_2\n",
       "761              0.1102  SERVSETD_1\n",
       "764              0.0353  SERVSETD_4\n",
       "890              0.0324      REASON\n",
       "796              0.0197   STFIPS_37\n",
       "885              0.0155         AGE\n",
       "781              0.0153   STFIPS_21\n",
       "768              0.0132  SERVSETD_8\n",
       "888              0.0099     NOPRIOR\n",
       "887              0.0078     DAYWAIT"
      ]
     },
     "execution_count": 72,
     "metadata": {},
     "output_type": "execute_result"
    }
   ],
   "source": [
    "df.sort_values(by='Feature Importance', ascending=False)[:10]"
   ]
  },
  {
   "cell_type": "markdown",
   "metadata": {},
   "source": [
    "Using ExtraTreesClassifier to see if we get any other outcome/illuminate on whether variables are actually important \n",
    "- They all have really low feature importance so we'll keep all the features for now "
   ]
  },
  {
   "cell_type": "code",
   "execution_count": 73,
   "metadata": {},
   "outputs": [
    {
     "data": {
      "text/html": [
       "<div>\n",
       "<style>\n",
       "    .dataframe thead tr:only-child th {\n",
       "        text-align: right;\n",
       "    }\n",
       "\n",
       "    .dataframe thead th {\n",
       "        text-align: left;\n",
       "    }\n",
       "\n",
       "    .dataframe tbody tr th {\n",
       "        vertical-align: top;\n",
       "    }\n",
       "</style>\n",
       "<table border=\"1\" class=\"dataframe\">\n",
       "  <thead>\n",
       "    <tr style=\"text-align: right;\">\n",
       "      <th></th>\n",
       "      <th>Feature Importance</th>\n",
       "      <th>Feature</th>\n",
       "    </tr>\n",
       "  </thead>\n",
       "  <tbody>\n",
       "    <tr>\n",
       "      <th>885</th>\n",
       "      <td>0.021288</td>\n",
       "      <td>AGE</td>\n",
       "    </tr>\n",
       "    <tr>\n",
       "      <th>888</th>\n",
       "      <td>0.015437</td>\n",
       "      <td>NOPRIOR</td>\n",
       "    </tr>\n",
       "    <tr>\n",
       "      <th>890</th>\n",
       "      <td>0.013428</td>\n",
       "      <td>REASON</td>\n",
       "    </tr>\n",
       "    <tr>\n",
       "      <th>328</th>\n",
       "      <td>0.012517</td>\n",
       "      <td>EDUC_3</td>\n",
       "    </tr>\n",
       "    <tr>\n",
       "      <th>367</th>\n",
       "      <td>0.011354</td>\n",
       "      <td>FRSTUSE1_3</td>\n",
       "    </tr>\n",
       "    <tr>\n",
       "      <th>767</th>\n",
       "      <td>0.010615</td>\n",
       "      <td>SERVSETD_7</td>\n",
       "    </tr>\n",
       "    <tr>\n",
       "      <th>327</th>\n",
       "      <td>0.009988</td>\n",
       "      <td>EDUC_2</td>\n",
       "    </tr>\n",
       "    <tr>\n",
       "      <th>762</th>\n",
       "      <td>0.009760</td>\n",
       "      <td>SERVSETD_2</td>\n",
       "    </tr>\n",
       "    <tr>\n",
       "      <th>734</th>\n",
       "      <td>0.009618</td>\n",
       "      <td>RACE_5</td>\n",
       "    </tr>\n",
       "    <tr>\n",
       "      <th>366</th>\n",
       "      <td>0.009374</td>\n",
       "      <td>FRSTUSE1_2</td>\n",
       "    </tr>\n",
       "  </tbody>\n",
       "</table>\n",
       "</div>"
      ],
      "text/plain": [
       "     Feature Importance     Feature\n",
       "885            0.021288         AGE\n",
       "888            0.015437     NOPRIOR\n",
       "890            0.013428      REASON\n",
       "328            0.012517      EDUC_3\n",
       "367            0.011354  FRSTUSE1_3\n",
       "767            0.010615  SERVSETD_7\n",
       "327            0.009988      EDUC_2\n",
       "762            0.009760  SERVSETD_2\n",
       "734            0.009618      RACE_5\n",
       "366            0.009374  FRSTUSE1_2"
      ]
     },
     "execution_count": 73,
     "metadata": {},
     "output_type": "execute_result"
    }
   ],
   "source": [
    "from sklearn.ensemble import ExtraTreesClassifier\n",
    "\n",
    "model = ExtraTreesClassifier()\n",
    "model.fit(X_all, y_all)\n",
    "df_3 = pd.DataFrame(X_all.columns, model.feature_importances_)\n",
    "df_4 = df_3.reset_index()\n",
    "df_4.columns = ['Feature Importance', 'Feature']\n",
    "df_4.sort_values('Feature Importance', ascending=False)[:10]"
   ]
  },
  {
   "cell_type": "markdown",
   "metadata": {},
   "source": [
    "Using PCA to see if there's any benefit to shrinking the 600+ variables in increasing accuracy "
   ]
  },
  {
   "cell_type": "code",
   "execution_count": 81,
   "metadata": {},
   "outputs": [
    {
     "data": {
      "text/plain": [
       "PCA(copy=True, iterated_power='auto', n_components=None, random_state=None,\n",
       "  svd_solver='auto', tol=0.0, whiten=False)"
      ]
     },
     "execution_count": 81,
     "metadata": {},
     "output_type": "execute_result"
    }
   ],
   "source": [
    "from sklearn import preprocessing\n",
    "\n",
    "X_scaled = preprocessing.scale(X_all)\n",
    "pca=PCA()\n",
    "pca.fit(X_scaled)"
   ]
  },
  {
   "cell_type": "code",
   "execution_count": 82,
   "metadata": {},
   "outputs": [
    {
     "data": {
      "image/png": "[encoded data removed]",
      "text/plain": [
       "<matplotlib.figure.Figure at 0x1ba852310>"
      ]
     },
     "metadata": {},
     "output_type": "display_data"
    }
   ],
   "source": [
    "plt.figure(1, figsize=(8, 5))\n",
    "plt.clf()\n",
    "plt.axes([.2, .2, .7, .7])\n",
    "plt.plot(pca.explained_variance_ratio_[:150], linewidth=2)\n",
    "plt.axis('tight')\n",
    "plt.xlabel('n_components')\n",
    "plt.ylabel('explained_variance_')\n",
    "plt.show()"
   ]
  },
  {
   "cell_type": "code",
   "execution_count": 83,
   "metadata": {},
   "outputs": [],
   "source": [
    "#Split dataset into train and test (here we are using LOS as our predicting variable)\n",
    "X_train_scaled, X_test_scaled, y_train_los, y_test_los = train_test_split(X_scaled,y_all,test_size = 0.33, random_state=42)\n",
    "\n",
    "#can use X_t_train and X_t_test to use models on PCA \n",
    "pca = PCA(n_components=80)\n",
    "pca.fit(X_train_scaled)\n",
    "X_t_train = pca.transform(X_train_scaled)\n",
    "X_t_test = pca.transform(X_test_scaled)"
   ]
  },
  {
   "cell_type": "markdown",
   "metadata": {},
   "source": [
    "After playing around for a bit, PCA cuts down running time of models significantly, yet does not contribute to increase in accuracy. Therefore, we'll continue to model without running PCA. "
   ]
  },
  {
   "cell_type": "markdown",
   "metadata": {},
   "source": [
    "# Modeling - REASON"
   ]
  },
  {
   "cell_type": "markdown",
   "metadata": {},
   "source": [
    "Predict LOS and REASON using various different modeling packages "
   ]
  },
  {
   "cell_type": "code",
   "execution_count": 61,
   "metadata": {},
   "outputs": [],
   "source": [
    "from sklearn.model_selection import train_test_split\n",
    "\n",
    "X=data[data.columns[data.columns!='LOS']]\n",
    "y_los=data['LOS']\n",
    "\n",
    "X_train_l, X_test_l, y_train_l, y_test_l = train_test_split(X,y_los,test_size = 0.33, random_state=42)"
   ]
  },
  {
   "cell_type": "code",
   "execution_count": 71,
   "metadata": {},
   "outputs": [],
   "source": [
    "X=data[data.columns[data.columns!='REASON']]\n",
    "y_r=data['REASON']\n",
    "\n",
    "X_train_r, X_test_r, y_train_r, y_test_r = train_test_split(X,y_r,test_size = 0.33, random_state=42)"
   ]
  },
  {
   "cell_type": "markdown",
   "metadata": {},
   "source": [
    "### Logistic Regression"
   ]
  },
  {
   "cell_type": "code",
   "execution_count": 41,
   "metadata": {},
   "outputs": [
    {
     "name": "stdout",
     "output_type": "stream",
     "text": [
      "Logistic Regression Accuracy:  0.682\n"
     ]
    }
   ],
   "source": [
    "logreg = linear_model.LogisticRegression(penalty='l2',C=1e5)\n",
    "logreg.fit(x_train_r, y_train_r)\n",
    "print \"Logistic Regression Accuracy: \", logreg.score(x_test_r,y_test_r)"
   ]
  },
  {
   "cell_type": "markdown",
   "metadata": {},
   "source": [
    "### KNN"
   ]
  },
  {
   "cell_type": "code",
   "execution_count": 45,
   "metadata": {},
   "outputs": [
    {
     "name": "stdout",
     "output_type": "stream",
     "text": [
      "KNN Accuracy:  0.622666666667\n"
     ]
    }
   ],
   "source": [
    "knn=neighbors.KNeighborsClassifier()\n",
    "knn.fit(x_train_r, y_train_r)\n",
    "print \"KNN Accuracy: \", knn.score(x_test_r,y_test_r)"
   ]
  },
  {
   "cell_type": "markdown",
   "metadata": {},
   "source": [
    "### Random Forest"
   ]
  },
  {
   "cell_type": "markdown",
   "metadata": {},
   "source": [
    "Random Forest did slightly better than KNN "
   ]
  },
  {
   "cell_type": "code",
   "execution_count": 50,
   "metadata": {},
   "outputs": [
    {
     "name": "stdout",
     "output_type": "stream",
     "text": [
      "Random Forest Accuracy:  0.676666666667\n"
     ]
    }
   ],
   "source": [
    "# Create a random forest Classifier. By convention, clf means 'Classifier'\n",
    "clf = RandomForestClassifier(random_state=42, max_features=100, max_depth=10)\n",
    "# Train the Classifier to take the training features and learn how they relate to test set \n",
    "clf.fit(x_train_r, y_train_r)\n",
    "print \"Random Forest Accuracy: \", clf.score(x_test_r, y_test_r)"
   ]
  },
  {
   "cell_type": "markdown",
   "metadata": {},
   "source": [
    "### MLP (Multlayer Perceptron)  \n",
    "- Class of feedforward artificual neural network \n",
    "- Part of Sklearn.neural_network package"
   ]
  },
  {
   "cell_type": "markdown",
   "metadata": {},
   "source": [
    "MLP did slightly better than Random Forest (perhaps parameters such as alpha and hidden layer sizes could be optimized by GridSearchCV) in order to boost the accuracy"
   ]
  },
  {
   "cell_type": "code",
   "execution_count": 51,
   "metadata": {},
   "outputs": [
    {
     "name": "stdout",
     "output_type": "stream",
     "text": [
      "MLP Accuracy:  0.682\n"
     ]
    }
   ],
   "source": [
    "mlp= MLPClassifier(alpha=1e-1, hidden_layer_sizes=(15,), random_state=1)\n",
    "mlp.fit(x_train_r, y_train_r) \n",
    "print \"MLP Accuracy: \", mlp.score(x_test_r,y_test_r)"
   ]
  },
  {
   "cell_type": "markdown",
   "metadata": {},
   "source": [
    "### MLP Classifier with SGD solver"
   ]
  },
  {
   "cell_type": "code",
   "execution_count": 23,
   "metadata": {},
   "outputs": [
    {
     "name": "stderr",
     "output_type": "stream",
     "text": [
      "/Users/chloekwon/anaconda/lib/python2.7/site-packages/sklearn/grid_search.py:42: DeprecationWarning: This module was deprecated in version 0.18 in favor of the model_selection module into which all the refactored classes and functions are moved. This module will be removed in 0.20.\n",
      "  DeprecationWarning)\n",
      "/Users/chloekwon/anaconda/lib/python2.7/site-packages/sklearn/neural_network/multilayer_perceptron.py:564: ConvergenceWarning: Stochastic Optimizer: Maximum iterations (5) reached and the optimization hasn't converged yet.\n",
      "  % self.max_iter, ConvergenceWarning)\n",
      "/Users/chloekwon/anaconda/lib/python2.7/site-packages/sklearn/neural_network/multilayer_perceptron.py:564: ConvergenceWarning: Stochastic Optimizer: Maximum iterations (30) reached and the optimization hasn't converged yet.\n",
      "  % self.max_iter, ConvergenceWarning)\n",
      "/Users/chloekwon/anaconda/lib/python2.7/site-packages/sklearn/neural_network/multilayer_perceptron.py:564: ConvergenceWarning: Stochastic Optimizer: Maximum iterations (100) reached and the optimization hasn't converged yet.\n",
      "  % self.max_iter, ConvergenceWarning)\n"
     ]
    },
    {
     "name": "stdout",
     "output_type": "stream",
     "text": [
      "MLP with sgd solver Accuracy:  0.679333333333\n"
     ]
    }
   ],
   "source": [
    "from sklearn.grid_search import GridSearchCV\n",
    "\n",
    "nn = MLPClassifier()\n",
    "\n",
    "param = {'hidden_layer_sizes' : [1,5,20,50], \n",
    "         'max_iter' : [5,30,100], \n",
    "         'learning_rate' : ['constant'], \n",
    "         'solver' : ['sgd'], \n",
    "         'alpha': [0.00001, 0.001, 0.01, 0.1]  \n",
    "        }\n",
    "\n",
    "gs = GridSearchCV(nn, param_grid = param)\n",
    "gs.fit(x_train_r, y_train_r)\n",
    "\n",
    "print \"MLP with sgd solver Accuracy: \", gs.score(x_test, y_test_r)"
   ]
  },
  {
   "cell_type": "markdown",
   "metadata": {},
   "source": [
    "### XGBoost "
   ]
  },
  {
   "cell_type": "code",
   "execution_count": 24,
   "metadata": {},
   "outputs": [
    {
     "name": "stdout",
     "output_type": "stream",
     "text": [
      "XGBoost Accuracy:  0.724\n"
     ]
    }
   ],
   "source": [
    "model = XGBClassifier()\n",
    "model.fit(x_train_r, y_train_r)\n",
    "y_pred=model.predict(x_test_r)\n",
    "predictions = [round(value) for value in y_pred]\n",
    "\n",
    "accuracy = accuracy_score(y_test_r, predictions)\n",
    "print \"XGBoost Accuracy: \", accuracy"
   ]
  },
  {
   "cell_type": "markdown",
   "metadata": {},
   "source": [
    "XGBoost did the best for modeling for REASON variable with 72.4% accuracy. "
   ]
  },
  {
   "cell_type": "markdown",
   "metadata": {},
   "source": [
    "# Modeling - LOS (Length of Stay) "
   ]
  },
  {
   "cell_type": "markdown",
   "metadata": {},
   "source": [
    "Linear Regression shows 60.2% accuracy "
   ]
  },
  {
   "cell_type": "code",
   "execution_count": 67,
   "metadata": {},
   "outputs": [
    {
     "name": "stdout",
     "output_type": "stream",
     "text": [
      "Linear Regression Accuracy:  0.540018019023\n"
     ]
    }
   ],
   "source": [
    "from sklearn.linear_model import LinearRegression \n",
    "\n",
    "lr = LinearRegression()\n",
    "lr.fit(x_train_l, y_train_l)\n",
    "print \"Linear Regression Accuracy: \", lr.score(x_test_l, y_test_l) "
   ]
  },
  {
   "cell_type": "code",
   "execution_count": 10,
   "metadata": {},
   "outputs": [
    {
     "name": "stdout",
     "output_type": "stream",
     "text": [
      "SVM linear Model accuracy:  0.540727134602\n"
     ]
    }
   ],
   "source": [
    "svr_model_linear = SVR(kernel = 'linear', C = 1).fit(x_train_l, y_train_l)\n",
    "svr_predictions = svr_model_linear.predict(x_test_l)\n",
    "\n",
    "# model accuracy for X_test  \n",
    "accuracy = svr_model_linear.score(x_test_l, y_test_l)\n",
    "\n",
    "print \"SVM linear Model accuracy: \", accuracy\n"
   ]
  },
  {
   "cell_type": "code",
   "execution_count": 11,
   "metadata": {},
   "outputs": [
    {
     "name": "stdout",
     "output_type": "stream",
     "text": [
      "RandomForestRegressor Accuracy:  0.610952918062\n"
     ]
    }
   ],
   "source": [
    "from sklearn.ensemble import RandomForestRegressor \n",
    "\n",
    "rfr = RandomForestRegressor(n_estimators=1000, \n",
    "                               criterion='mse', \n",
    "                               random_state=1, \n",
    "                               n_jobs=-1).fit(x_train_l, y_train_l)\n",
    "print \"RandomForestRegressor Accuracy: \", rfr.score(x_test_l, y_test_l)"
   ]
  },
  {
   "cell_type": "code",
   "execution_count": 70,
   "metadata": {},
   "outputs": [
    {
     "name": "stdout",
     "output_type": "stream",
     "text": [
      "KNeighbors Regressor Accuracy:  0.212508416567\n"
     ]
    }
   ],
   "source": [
    "from sklearn.neighbors import KNeighborsRegressor\n",
    "\n",
    "knr = KNeighborsRegressor(n_neighbors=80,weights='uniform',p=2)\n",
    "knr.fit(x_train_l, y_train_l)\n",
    "print \"KNeighbors Regressor Accuracy: \", knr.score(x_test_l, y_test_l)"
   ]
  },
  {
   "cell_type": "code",
   "execution_count": 13,
   "metadata": {},
   "outputs": [
    {
     "name": "stdout",
     "output_type": "stream",
     "text": [
      "Gradient Boosting Regressor Accuracy:  0.608180807126\n"
     ]
    }
   ],
   "source": [
    "from sklearn.ensemble import GradientBoostingRegressor as gBR\n",
    "\n",
    "gbr = gBR()\n",
    "gbr.fit(x_train_l, y_train_l)\n",
    "print \"Gradient Boosting Regressor Accuracy: \", gbr.score(x_test_l, y_test_l)"
   ]
  },
  {
   "cell_type": "markdown",
   "metadata": {},
   "source": [
    "Random Forest Regressor did the best to predict LOS (Length of Stay) with 61.1% accuracy. "
   ]
  },
  {
   "cell_type": "markdown",
   "metadata": {},
   "source": [
    "## Codebook ## "
   ]
  },
  {
   "cell_type": "markdown",
   "metadata": {},
   "source": [
    "- Age\n",
    "- Gender\n",
    "- Race \n",
    "- Ethnic \n",
    "- Marstat (Marital Status; 0 - Never married, 1 - Now married, 2 - Separated, 3 - Divorced, -9 - missing) \n",
    "- EDU (Education; 1 - 8 yrs or less, 2 - 9-11, 3 - 12, 4 - 13-15, 5 - 16 or more, -9 - missing) \n",
    "- EMPLOY (Employment status; 1 - Full time, 2 - Part time, 3 - Unemployed, 4 - Not in labor force, -9 - missing) \n",
    "- DETNLF (Not in labor force detail; 1 - Homemaker, 2 - Student, 3 - Retired, disabled, 4- Other, -9 - missing) \n",
    "- PREG (Pregnant at admission; 1 - yes, 2 - no, -9 - missing) \n",
    "- VET (Veteran status; 1 - yes, 2 - no, -9 - missing) \n",
    "- LIVARAG (LIVING ARRANGEMENT; 1 - HOMELESS, 2 - DEPENDENT LIVING, 3 - INDEPENDENT LIVING, -9 - missing) \n",
    "- PRIMINC (SOURCE OF INCOME/SUPPORT; 1 - WAGES/SALARY, 2 - PUBLIC ASSISTANCE, 3 - RETIREMENT/PENSION, DISABILITY, 20 - Other, 21 - None, -9 - missing) \n",
    "- ARRESTS (NUMBER OF ARRESTS IN 30 DAYS PRIOR TO ADMISSION; 1 - NONE, 2 - Once, 3 - 2 OR MORE TIMES, -9 - missing) \n",
    "- STFIPS (CENSUS STATE FIPS CODE - Texas : 48 (39,695) \n",
    "- CBSA (FIPS 2015 CBSA CODE - code for metro area)\n",
    "- REGION (0 - US JURISDICTION/TERRITORY, 1 - NORTHEAST, 2 - MIDWEST, 3 - SOUTH, 4 - WEST) \n",
    "- DIVISION (CENSUS DIVISION) \n",
    "- SERVSETD (SERVICE SETTING AT DISCHARGE)\n",
    "- METHUSE (MEDICATION-ASSISTED OPIOID THERAPY)\n",
    "- DAYWAIT (DAYS WAITING TO ENTER TREATMENT) \n",
    "- REASON (REASON FOR DISCHARGE) \n",
    "- LOS (LENGTH OF STAY) \n",
    "- PSOURCE (PRINCIPAL SOURCE OF REFERRAL) \n",
    "- DETCRIM: DETAILED CRIMINAL JUSTICE REFERRAL\n",
    "- NOPRIOR: NUMBER OF PRIOR TREATMENT EPISODES\n",
    "- SUB1: SUBSTANCE ABUSE PROBLEM (PRIMARY)\n",
    "- ROUTE1: USUAL ROUTE OF ADMINISTRATION (PRIMARY)\n",
    "- FREQ1: FREQUENCY OF USE (PRIMARY)\n",
    "- FRSTUSE1: AGE AT FIRST USE (PRIMARY)\n",
    "- SUB2: SUBSTANCE ABUSE PROBLEM (SECONDARY)\n",
    "- ROUTE2: USUAL ROUTE OF ADMINISTRATION (SECONDARY)\n",
    "- ALCDRUG: SUBSTANCE ABUSE TYPE\n",
    "- DSMCRIT: DSM DIAGNOSIS (shows what kind of problems) \n",
    "- PSYPROB: PSYCHIATRIC PROBLEM IN ADDITION TO ALCOHOL/DRUG PROBLEM\n",
    "- HLTHINS: HEALTH INSURANCE\n",
    "- PRIMPAY: EXPECTED/ACTUAL PRIMARY SOURCE OF PAYMENT"
   ]
  }
 ],
 "metadata": {
  "kernelspec": {
   "display_name": "Python 2",
   "language": "python",
   "name": "python2"
  },
  "language_info": {
   "codemirror_mode": {
    "name": "ipython",
    "version": 2
   },
   "file_extension": ".py",
   "mimetype": "text/x-python",
   "name": "python",
   "nbconvert_exporter": "python",
   "pygments_lexer": "ipython2",
   "version": "2.7.13"
  }
 },
 "nbformat": 4,
 "nbformat_minor": 2
}
