{
 "cells": [
  {
   "cell_type": "markdown",
   "metadata": {},
   "source": [
    "# Using Job descriptions to predict salary (rank) \n",
    "\n",
    "Objective: text classification and building models for predicting salary using job descriptions using python, scikit-learn and NLTK (tokenize, bag-of-words, tagging, stopwords, lemmatization) "
   ]
  },
  {
   "cell_type": "code",
   "execution_count": 135,
   "metadata": {},
   "outputs": [],
   "source": [
    "import os\n",
    "import warnings\n",
    "warnings.filterwarnings('ignore')\n",
    "import sys  \n",
    "import pandas as pd\n",
    "from pandas import Series, DataFrame\n",
    "import numpy as np\n",
    "import matplotlib.pyplot as plt\n",
    "%pylab inline\n",
    "\n",
    "import nltk\n",
    "from nltk import word_tokenize\n",
    "from nltk import pos_tag\n",
    "from collections import Counter\n",
    "from nltk.corpus import stopwords\n",
    "from nltk.stem.wordnet import WordNetLemmatizer\n",
    "from nltk.corpus import wordnet\n",
    "import sklearn\n",
    "from sklearn.model_selection import train_test_split\n",
    "from sklearn.feature_extraction.text import CountVectorizer\n",
    "from operator import itemgetter\n",
    "from sklearn.naive_bayes import MultinomialNB\n",
    "from sklearn.feature_extraction.text import TfidfVectorizer\n",
    "from sklearn.metrics import classification_report\n",
    "from sklearn import metrics\n",
    "from sklearn.pipeline import Pipeline\n",
    "from sklearn.feature_extraction.text import TfidfTransformer\n",
    "from sklearn.linear_model import SGDClassifier\n",
    "from sklearn.model_selection import GridSearchCV"
   ]
  },
  {
   "cell_type": "code",
   "execution_count": 87,
   "metadata": {
    "scrolled": true
   },
   "outputs": [
    {
     "data": {
      "text/plain": [
       "147010    INSTORE PROMOTIONS ASSISTANT  Immediate Start ...\n",
       "113854    Automotive, Motor Trade Job: Motorcycle Techni...\n",
       "210556    Site or Unit :The County Care HomeAddress :***...\n",
       "33286     An excellent opportunity to be part of a fast ...\n",
       "72045     Our client is a major provider of precision ma...\n",
       "239507    Maintenance Engineer, Maintenance Technician, ...\n",
       "55862     A large school in Selby are looking for a full...\n",
       "229239    With impressive growth of ****0% year on year,...\n",
       "3116      The client is seeking a highly motivated and s...\n",
       "173821    My client, a large international organisation,...\n",
       "Name: FullDescription, dtype: object"
      ]
     },
     "execution_count": 87,
     "metadata": {},
     "output_type": "execute_result"
    }
   ],
   "source": [
    "df_data = pd.read_csv(\"Train_rev1.csv\", encoding = \"ISO-8859-1\")\n",
    "df_sample = df_data.sample(10000)\n",
    "df_sample['FullDescription'][:10]"
   ]
  },
  {
   "cell_type": "markdown",
   "metadata": {},
   "source": [
    "### Exploratory Data Analysis \n",
    "\n",
    "Top 5 parts of speech of the job descriptions"
   ]
  },
  {
   "cell_type": "code",
   "execution_count": 88,
   "metadata": {},
   "outputs": [],
   "source": [
    "corpus = df_sample['FullDescription'].str.cat().lower()\n",
    "token = nltk.word_tokenize(corpus)\n",
    "tag = nltk.pos_tag(token)\n",
    "tags_df = DataFrame(tag)"
   ]
  },
  {
   "cell_type": "code",
   "execution_count": 45,
   "metadata": {},
   "outputs": [
    {
     "data": {
      "text/plain": [
       "NN     325743\n",
       "JJ     141203\n",
       "IN     131681\n",
       "NNS    103118\n",
       "DT     102126\n",
       "Name: 1, dtype: int64"
      ]
     },
     "execution_count": 45,
     "metadata": {},
     "output_type": "execute_result"
    }
   ],
   "source": [
    "tags_df[1].value_counts()[:5]"
   ]
  },
  {
   "cell_type": "markdown",
   "metadata": {},
   "source": [
    "How frequently they appear in the corpus"
   ]
  },
  {
   "cell_type": "code",
   "execution_count": 46,
   "metadata": {},
   "outputs": [
    {
     "data": {
      "text/plain": [
       "<matplotlib.axes._subplots.AxesSubplot at 0x121f63dd0>"
      ]
     },
     "execution_count": 46,
     "metadata": {},
     "output_type": "execute_result"
    },
    {
     "data": {
      "image/png": "[encoded data removed]",
      "text/plain": [
       "<matplotlib.figure.Figure at 0x119fd8e50>"
      ]
     },
     "metadata": {},
     "output_type": "display_data"
    }
   ],
   "source": [
    "tags_df[1].value_counts()[:5].plot(kind='bar', color='blue')"
   ]
  },
  {
   "cell_type": "markdown",
   "metadata": {},
   "source": [
    "Let's see if this corpus supports Zipf's law "
   ]
  },
  {
   "cell_type": "code",
   "execution_count": 47,
   "metadata": {},
   "outputs": [],
   "source": [
    "#Get word counts and ranks, sort by ranks, and get top 100 \n",
    "\n",
    "count = tags_df[0].value_counts().sort_index().to_frame()\n",
    "ranks = tags_df[0].value_counts().rank(ascending=False).to_frame()\n",
    "zipfs = count.merge(ranks, left_index=True, right_index=True).sort_values([\"0_y\"],ascending=True)[:100]\n",
    "zipfs.columns = ['Count', 'Rank']"
   ]
  },
  {
   "cell_type": "code",
   "execution_count": 48,
   "metadata": {},
   "outputs": [
    {
     "data": {
      "image/png": "[encoded data removed]",
      "text/plain": [
       "<matplotlib.figure.Figure at 0x119129850>"
      ]
     },
     "metadata": {},
     "output_type": "display_data"
    }
   ],
   "source": [
    "x = np.log(zipfs['Count'])\n",
    "y = np.log(zipfs['Rank'])\n",
    "fit = np.polyfit(x, y, deg = 1)\n",
    "fitted = fit[0] * x + fit[1]\n",
    "\n",
    "fig = plt.Figure(figsize = (4,4), facecolor='w', edgecolor='w')\n",
    "ax = plt.subplot(111)\n",
    "ax.plot(x, y, 'bo', alpha = 0.5)\n",
    "ax.plot(x, fitted, 'r')\n",
    "\n",
    "ax.set_title('Log(Rank) vs. Log(Count) Words\\nJobdescription Corpus')\n",
    "ax.set_xlabel('Log(Count)')\n",
    "ax.set_ylabel('Log(Rank)')\n",
    "\n",
    "ax.set_xlim(min(x))\n",
    "\n",
    "plt.tight_layout()\n",
    "plt.show()"
   ]
  },
  {
   "cell_type": "markdown",
   "metadata": {},
   "source": [
    "Although rank and token frequency show an inverse relationship, when compared with theoretical prediction of the law, actual value diverges from predicted value. So Zipf's law does hold true in this case probably due to stopwords."
   ]
  },
  {
   "cell_type": "markdown",
   "metadata": {},
   "source": [
    "What would happen to word count and frequency if we remove stopwords and lemmatize? "
   ]
  },
  {
   "cell_type": "code",
   "execution_count": 49,
   "metadata": {},
   "outputs": [],
   "source": [
    "stop_words = set(stopwords.words('english'))\n",
    "wtstop = []\n",
    "\n",
    "for w in token: \n",
    "    if w not in stop_words: \n",
    "        wtstop.append(w)\n",
    "lem = WordNetLemmatizer()\n",
    "wtstop_lemmatized = DataFrame(map(lambda x: lem.lemmatize(x), wtstop))"
   ]
  },
  {
   "cell_type": "code",
   "execution_count": 50,
   "metadata": {},
   "outputs": [
    {
     "data": {
      "text/plain": [
       "<matplotlib.axes._subplots.AxesSubplot at 0x12209a150>"
      ]
     },
     "execution_count": 50,
     "metadata": {},
     "output_type": "execute_result"
    },
    {
     "data": {
      "image/png": "[encoded data removed]",
      "text/plain": [
       "<matplotlib.figure.Figure at 0x121f63990>"
      ]
     },
     "metadata": {},
     "output_type": "display_data"
    }
   ],
   "source": [
    "wtstop_lemmatized[0].value_counts(ascending=False)[:10].plot(kind='bar')"
   ]
  },
  {
   "cell_type": "code",
   "execution_count": 11,
   "metadata": {},
   "outputs": [
    {
     "data": {
      "text/plain": [
       ",              5982\n",
       ".              3033\n",
       "responsible    1231\n",
       "project        1168\n",
       "looking        1144\n",
       "development    1033\n",
       "position       1015\n",
       ")              1015\n",
       "(               995\n",
       "incumbent       976\n",
       "Name: 0, dtype: int64"
      ]
     },
     "execution_count": 11,
     "metadata": {},
     "output_type": "execute_result"
    }
   ],
   "source": [
    "wtstop_lemmatized[0].value_counts(ascending=False)[:10]"
   ]
  },
  {
   "cell_type": "markdown",
   "metadata": {},
   "source": [
    "### Predict Salary from Job Description\n",
    "\n",
    "Creating classification model with bag-of-words and explore the accuracy using confusion matrix "
   ]
  },
  {
   "cell_type": "code",
   "execution_count": 90,
   "metadata": {},
   "outputs": [],
   "source": [
    "salary_rank = df_sample['SalaryNormalized'].rank(ascending=False)\n",
    "salary_percentile = pd.qcut(salary_rank, 4, \n",
    "                            labels = ['0-25', '25-50', '50-75', '75-100'])\n",
    "df_sample['Salary Percentile'] = salary_percentile\n",
    "df_sample['Target'] = 0.0 \n",
    "mask = (df_sample['Salary Percentile'] == '0-25')\n",
    "df_sample['Target'][mask] = 1.0 "
   ]
  },
  {
   "cell_type": "code",
   "execution_count": 91,
   "metadata": {},
   "outputs": [
    {
     "data": {
      "text/html": [
       "<div>\n",
       "<style scoped>\n",
       "    .dataframe tbody tr th:only-of-type {\n",
       "        vertical-align: middle;\n",
       "    }\n",
       "\n",
       "    .dataframe tbody tr th {\n",
       "        vertical-align: top;\n",
       "    }\n",
       "\n",
       "    .dataframe thead th {\n",
       "        text-align: right;\n",
       "    }\n",
       "</style>\n",
       "<table border=\"1\" class=\"dataframe\">\n",
       "  <thead>\n",
       "    <tr style=\"text-align: right;\">\n",
       "      <th></th>\n",
       "      <th>FullDescription</th>\n",
       "      <th>SalaryNormalized</th>\n",
       "      <th>Salary Percentile</th>\n",
       "      <th>Target</th>\n",
       "    </tr>\n",
       "  </thead>\n",
       "  <tbody>\n",
       "    <tr>\n",
       "      <th>147010</th>\n",
       "      <td>instore promotions assistant  immediate start ...</td>\n",
       "      <td>16800</td>\n",
       "      <td>75-100</td>\n",
       "      <td>0.0</td>\n",
       "    </tr>\n",
       "    <tr>\n",
       "      <th>113854</th>\n",
       "      <td>automotive, motor trade job: motorcycle techni...</td>\n",
       "      <td>20000</td>\n",
       "      <td>75-100</td>\n",
       "      <td>0.0</td>\n",
       "    </tr>\n",
       "    <tr>\n",
       "      <th>210556</th>\n",
       "      <td>site or unit :the county care homeaddress :***...</td>\n",
       "      <td>21024</td>\n",
       "      <td>75-100</td>\n",
       "      <td>0.0</td>\n",
       "    </tr>\n",
       "    <tr>\n",
       "      <th>33286</th>\n",
       "      <td>an excellent opportunity to be part of a fast ...</td>\n",
       "      <td>50000</td>\n",
       "      <td>0-25</td>\n",
       "      <td>1.0</td>\n",
       "    </tr>\n",
       "    <tr>\n",
       "      <th>72045</th>\n",
       "      <td>our client is a major provider of precision ma...</td>\n",
       "      <td>34000</td>\n",
       "      <td>25-50</td>\n",
       "      <td>0.0</td>\n",
       "    </tr>\n",
       "    <tr>\n",
       "      <th>239507</th>\n",
       "      <td>maintenance engineer, maintenance technician, ...</td>\n",
       "      <td>35000</td>\n",
       "      <td>25-50</td>\n",
       "      <td>0.0</td>\n",
       "    </tr>\n",
       "    <tr>\n",
       "      <th>55862</th>\n",
       "      <td>a large school in selby are looking for a full...</td>\n",
       "      <td>27840</td>\n",
       "      <td>50-75</td>\n",
       "      <td>0.0</td>\n",
       "    </tr>\n",
       "    <tr>\n",
       "      <th>229239</th>\n",
       "      <td>with impressive growth of ****0% year on year,...</td>\n",
       "      <td>55000</td>\n",
       "      <td>0-25</td>\n",
       "      <td>1.0</td>\n",
       "    </tr>\n",
       "    <tr>\n",
       "      <th>3116</th>\n",
       "      <td>the client is seeking a highly motivated and s...</td>\n",
       "      <td>58000</td>\n",
       "      <td>0-25</td>\n",
       "      <td>1.0</td>\n",
       "    </tr>\n",
       "    <tr>\n",
       "      <th>173821</th>\n",
       "      <td>my client, a large international organisation,...</td>\n",
       "      <td>21500</td>\n",
       "      <td>50-75</td>\n",
       "      <td>0.0</td>\n",
       "    </tr>\n",
       "    <tr>\n",
       "      <th>53121</th>\n",
       "      <td>a leading uk communications consultancy is act...</td>\n",
       "      <td>26000</td>\n",
       "      <td>50-75</td>\n",
       "      <td>0.0</td>\n",
       "    </tr>\n",
       "    <tr>\n",
       "      <th>127776</th>\n",
       "      <td>are you self motivated and have the ability to...</td>\n",
       "      <td>37500</td>\n",
       "      <td>25-50</td>\n",
       "      <td>0.0</td>\n",
       "    </tr>\n",
       "    <tr>\n",
       "      <th>234901</th>\n",
       "      <td>cat c1 (****t) drivers required west london  *...</td>\n",
       "      <td>15360</td>\n",
       "      <td>75-100</td>\n",
       "      <td>0.0</td>\n",
       "    </tr>\n",
       "    <tr>\n",
       "      <th>64468</th>\n",
       "      <td>job title: buyer location: south west england ...</td>\n",
       "      <td>28500</td>\n",
       "      <td>50-75</td>\n",
       "      <td>0.0</td>\n",
       "    </tr>\n",
       "    <tr>\n",
       "      <th>151873</th>\n",
       "      <td>job ref: **** job type: crm developer package:...</td>\n",
       "      <td>52500</td>\n",
       "      <td>0-25</td>\n",
       "      <td>1.0</td>\n",
       "    </tr>\n",
       "    <tr>\n",
       "      <th>95810</th>\n",
       "      <td>srgeurope are seeking to recruit a senior leve...</td>\n",
       "      <td>70000</td>\n",
       "      <td>0-25</td>\n",
       "      <td>1.0</td>\n",
       "    </tr>\n",
       "    <tr>\n",
       "      <th>172762</th>\n",
       "      <td>principal engineer  emc cumbria principal engi...</td>\n",
       "      <td>45000</td>\n",
       "      <td>0-25</td>\n",
       "      <td>1.0</td>\n",
       "    </tr>\n",
       "    <tr>\n",
       "      <th>219789</th>\n",
       "      <td>job title:occupational disease paralegal pqe r...</td>\n",
       "      <td>21500</td>\n",
       "      <td>50-75</td>\n",
       "      <td>0.0</td>\n",
       "    </tr>\n",
       "    <tr>\n",
       "      <th>157261</th>\n",
       "      <td>36 months, parttime (17.5 hours per week) sect...</td>\n",
       "      <td>13000</td>\n",
       "      <td>75-100</td>\n",
       "      <td>0.0</td>\n",
       "    </tr>\n",
       "    <tr>\n",
       "      <th>36452</th>\n",
       "      <td>widely regarded as an employer of choice in th...</td>\n",
       "      <td>35000</td>\n",
       "      <td>25-50</td>\n",
       "      <td>0.0</td>\n",
       "    </tr>\n",
       "  </tbody>\n",
       "</table>\n",
       "</div>"
      ],
      "text/plain": [
       "                                          FullDescription  SalaryNormalized  \\\n",
       "147010  instore promotions assistant  immediate start ...             16800   \n",
       "113854  automotive, motor trade job: motorcycle techni...             20000   \n",
       "210556  site or unit :the county care homeaddress :***...             21024   \n",
       "33286   an excellent opportunity to be part of a fast ...             50000   \n",
       "72045   our client is a major provider of precision ma...             34000   \n",
       "239507  maintenance engineer, maintenance technician, ...             35000   \n",
       "55862   a large school in selby are looking for a full...             27840   \n",
       "229239  with impressive growth of ****0% year on year,...             55000   \n",
       "3116    the client is seeking a highly motivated and s...             58000   \n",
       "173821  my client, a large international organisation,...             21500   \n",
       "53121   a leading uk communications consultancy is act...             26000   \n",
       "127776  are you self motivated and have the ability to...             37500   \n",
       "234901  cat c1 (****t) drivers required west london  *...             15360   \n",
       "64468   job title: buyer location: south west england ...             28500   \n",
       "151873  job ref: **** job type: crm developer package:...             52500   \n",
       "95810   srgeurope are seeking to recruit a senior leve...             70000   \n",
       "172762  principal engineer  emc cumbria principal engi...             45000   \n",
       "219789  job title:occupational disease paralegal pqe r...             21500   \n",
       "157261  36 months, parttime (17.5 hours per week) sect...             13000   \n",
       "36452   widely regarded as an employer of choice in th...             35000   \n",
       "\n",
       "       Salary Percentile  Target  \n",
       "147010            75-100     0.0  \n",
       "113854            75-100     0.0  \n",
       "210556            75-100     0.0  \n",
       "33286               0-25     1.0  \n",
       "72045              25-50     0.0  \n",
       "239507             25-50     0.0  \n",
       "55862              50-75     0.0  \n",
       "229239              0-25     1.0  \n",
       "3116                0-25     1.0  \n",
       "173821             50-75     0.0  \n",
       "53121              50-75     0.0  \n",
       "127776             25-50     0.0  \n",
       "234901            75-100     0.0  \n",
       "64468              50-75     0.0  \n",
       "151873              0-25     1.0  \n",
       "95810               0-25     1.0  \n",
       "172762              0-25     1.0  \n",
       "219789             50-75     0.0  \n",
       "157261            75-100     0.0  \n",
       "36452              25-50     0.0  "
      ]
     },
     "execution_count": 91,
     "metadata": {},
     "output_type": "execute_result"
    }
   ],
   "source": [
    "df_sample['FullDescription'] = df_sample['FullDescription'].apply(lambda x: x.lower())\n",
    "df_sample[['FullDescription', 'SalaryNormalized', 'Salary Percentile', 'Target']][:20]"
   ]
  },
  {
   "cell_type": "code",
   "execution_count": 114,
   "metadata": {},
   "outputs": [],
   "source": [
    "#Create Train and Test set \n",
    "df_train = df_sample[:8000]\n",
    "df_test = df_sample[8000:]\n",
    "\n",
    "#Create a document term matrix using CountVectorizer on the train set of the job description corpus \n",
    "count_vec = CountVectorizer()\n",
    "count_dtm = count_vec.fit_transform(df_train['FullDescription'].tolist())\n",
    "\n",
    "#Create Naive Bayes Classifier \n",
    "nb = MultinomialNB()\n",
    "clf = nb.fit(count_dtm, df_train['Target'])"
   ]
  },
  {
   "cell_type": "code",
   "execution_count": 93,
   "metadata": {},
   "outputs": [
    {
     "data": {
      "text/plain": [
       "array([[5076,  899],\n",
       "       [ 367, 1658]])"
      ]
     },
     "execution_count": 93,
     "metadata": {},
     "output_type": "execute_result"
    }
   ],
   "source": [
    "#Training Classification Matrix \n",
    "predicted = clf.predict(count_dtm)\n",
    "metrics.confusion_matrix(df_train[\"Target\"], predicted)"
   ]
  },
  {
   "cell_type": "code",
   "execution_count": 94,
   "metadata": {},
   "outputs": [
    {
     "data": {
      "text/plain": [
       "('Train Accuracy: ', 0.84175)"
      ]
     },
     "execution_count": 94,
     "metadata": {},
     "output_type": "execute_result"
    }
   ],
   "source": [
    "\"Train Accuracy: \",metrics.accuracy_score(train[\"Target\"], predicted)"
   ]
  },
  {
   "cell_type": "code",
   "execution_count": 96,
   "metadata": {},
   "outputs": [
    {
     "data": {
      "text/plain": [
       "array([[1346,  142],\n",
       "       [  66,  446]])"
      ]
     },
     "execution_count": 96,
     "metadata": {},
     "output_type": "execute_result"
    }
   ],
   "source": [
    "#Test Classification Matrix \n",
    "count_dtm_test = count_vec.fit_transform(test['FullDescription'].tolist())\n",
    "clf_2 = nb.fit(count_dtm_test, test['Target'])\n",
    "predicted_test = clf_2.predict(count_dtm_test)\n",
    "metrics.confusion_matrix(test['Target'], predicted_test)"
   ]
  },
  {
   "cell_type": "code",
   "execution_count": 97,
   "metadata": {},
   "outputs": [
    {
     "data": {
      "text/plain": [
       "('Test Accuracy: ', 0.89600000000000002)"
      ]
     },
     "execution_count": 97,
     "metadata": {},
     "output_type": "execute_result"
    }
   ],
   "source": [
    "\"Test Accuracy: \", metrics.accuracy_score(test['Target'], predicted_test)"
   ]
  },
  {
   "cell_type": "markdown",
   "metadata": {},
   "source": [
    "Would lemmatization help with the accuracy of classification?\n",
    "\n",
    "- Lemmatization made almost no difference and rather lowered the accuracy by about 1%. This could have been from overfitting and possibly could be improved if we removed stopwords. "
   ]
  },
  {
   "cell_type": "code",
   "execution_count": 98,
   "metadata": {},
   "outputs": [],
   "source": [
    "#To lemmatize words like \"performing\", we need part of speech tags and this function creates the mapping of \n",
    "#the lemmatizer tags to the tokenizer tags \n",
    "def get_wordnet_pos(tag): \n",
    "    if tag.startswith('J'): \n",
    "        return wordnet.ADJ\n",
    "    elif tag.startswith('V'): \n",
    "        return wordnet.VERB\n",
    "    elif tag.startswith('N'): \n",
    "        return wordnet.NOUN\n",
    "    elif tag.startswith('R'): \n",
    "        return wordnet.ADV\n",
    "    else: \n",
    "        return ''\n",
    "\n",
    "#To lemmatize a word if we have a part of speech tag or not \n",
    "def lemma(x): \n",
    "    lemmatizer = WordNetLemmatizer()\n",
    "    if get_wordnet_pos(x[1]) != '': \n",
    "        return lemmatizer.lemmatize(x[0], get_wordnet_pos(x[1]))\n",
    "    return lemmatizer.lemmatize(x[0])\n",
    "\n",
    "#Tokenize, tag, and lemmatize Job Description corpus \n",
    "df_token = df_sample.copy()\n",
    "df_token['FullDescription'] = df_token['FullDescription'].apply(lambda x: nltk.pos_tag(nltk.word_tokenize(x)))\n",
    "df_token['FullDescription'] = df_token['FullDescription'].apply(lambda x: map(lemma, x))"
   ]
  },
  {
   "cell_type": "code",
   "execution_count": 99,
   "metadata": {},
   "outputs": [
    {
     "data": {
      "text/plain": [
       "array([[1334,  154],\n",
       "       [  67,  445]])"
      ]
     },
     "execution_count": 99,
     "metadata": {},
     "output_type": "execute_result"
    }
   ],
   "source": [
    "#Split into train and test set \n",
    "train_lem = df_token[:8000]\n",
    "test_lem = df_token[8000:]\n",
    "\n",
    "#Create a document term matrix using CountVectorizer on the train set of the job description corpus \n",
    "ct_vec = CountVectorizer()\n",
    "ct_dtm = ct_vec.fit_transform(train_lem['FullDescription'].apply(lambda x: ' '.join(x)))\n",
    "nb = MultinomialNB()\n",
    "clf = nb.fit(ct_dtm, train_lem['Target'])\n",
    "\n",
    "#Accuracy and confusion matrix on lemmatized train data \n",
    "predict = clf.predict(ct_dtm)\n",
    "print metrics.confusion_matrix(train_lem['Target'], predict)\n",
    "\n",
    "#Accuracy and confusion matrix on lemmatized test data \n",
    "ct_dtm_test = ct_vec.fit_transform(test_lem['FullDescription'].apply(lambda x: ' '.join(x)))\n",
    "clf_2 = nb.fit(ct_dtm_test, test_lem['Target'])\n",
    "predict_test = clf_2.predict(ct_dtm_test)\n",
    "metrics.confusion_matrix(test_lem['Target'], predict_test)"
   ]
  },
  {
   "cell_type": "code",
   "execution_count": 100,
   "metadata": {},
   "outputs": [
    {
     "data": {
      "text/plain": [
       "('Test Accuracy: ', 0.88949999999999996)"
      ]
     },
     "execution_count": 100,
     "metadata": {},
     "output_type": "execute_result"
    }
   ],
   "source": [
    "\"Test Accuracy: \", metrics.accuracy_score(test_lem['Target'], predict_test)"
   ]
  },
  {
   "cell_type": "code",
   "execution_count": 101,
   "metadata": {},
   "outputs": [
    {
     "data": {
      "text/plain": [
       "('Train Accuracy: ', 0.83962499999999995)"
      ]
     },
     "execution_count": 101,
     "metadata": {},
     "output_type": "execute_result"
    }
   ],
   "source": [
    "\"Train Accuracy: \", metrics.accuracy_score(train_lem['Target'], predict)"
   ]
  },
  {
   "cell_type": "markdown",
   "metadata": {},
   "source": [
    "Using Pipeline to reduce the number of lines of code and test different parameters and classifiers "
   ]
  },
  {
   "cell_type": "code",
   "execution_count": 160,
   "metadata": {},
   "outputs": [
    {
     "data": {
      "text/plain": [
       "('Test Accuracy for SVM: ', 0.83450000000000002)"
      ]
     },
     "execution_count": 160,
     "metadata": {},
     "output_type": "execute_result"
    }
   ],
   "source": [
    "#removing the stop_words weren't helpful in increasing the accuracy \n",
    "text_clf_svm = Pipeline([('vect', CountVectorizer(stop_words = 'english')), \n",
    "                         ('tfidf', TfidfTransformer()), \n",
    "                        ('clf-svm', SGDClassifier(loss='hinge', penalty='l2', alpha=1e-4, n_iter=5))\n",
    "                        ])\n",
    "text_clf_svm = text_clf_svm.fit(df_train['FullDescription'], df_train['Target'])\n",
    "predicted_svm = text_clf_svm.predict(df_test['FullDescription'])\n",
    "\"Test Accuracy for SVM: \", metrics.accuracy_score(df_test['Target'], predicted_svm)"
   ]
  },
  {
   "cell_type": "code",
   "execution_count": 147,
   "metadata": {},
   "outputs": [],
   "source": [
    "param = {'vect__ngram_range': [(1,1), (1,2)],\n",
    "         'tfidf__use_idf': ('True', 'False'),\n",
    "         'clf-svm__alpha': (1e-2, 1e-3),\n",
    "        }\n",
    "gs_clf = GridSearchCV(text_clf_svm, param, n_jobs=-1)\n",
    "gs_clf = gs_clf.fit(df_train['FullDescription'], df_train['Target'])\n"
   ]
  },
  {
   "cell_type": "code",
   "execution_count": 148,
   "metadata": {},
   "outputs": [
    {
     "data": {
      "text/plain": [
       "{'clf-svm__alpha': 0.001,\n",
       " 'tfidf__use_idf': 'True',\n",
       " 'vect__ngram_range': (1, 1)}"
      ]
     },
     "execution_count": 148,
     "metadata": {},
     "output_type": "execute_result"
    }
   ],
   "source": [
    "gs_clf.best_params_"
   ]
  },
  {
   "cell_type": "code",
   "execution_count": 149,
   "metadata": {},
   "outputs": [
    {
     "data": {
      "text/plain": [
       "('Test Accuracy after GridSearch:', 0.77000000000000002)"
      ]
     },
     "execution_count": 149,
     "metadata": {},
     "output_type": "execute_result"
    }
   ],
   "source": [
    "#Grid Search didn't improve the test accuracy. \n",
    "predict_gs = gs_clf.predict(df_test['FullDescription'])\n",
    "\"Test Accuracy after GridSearch:\", metrics.accuracy_score(df_test['Target'], predict_gs)"
   ]
  },
  {
   "cell_type": "markdown",
   "metadata": {},
   "source": [
    "Overall, Naive Bayes Classifier did the best in classifying the Target salary from job description in terms of accuracy score. To expand further, we can run gridsearch on more wide array of parameters to find optimal parameters, but this comes at a cost of computing time. "
   ]
  }
 ],
 "metadata": {
  "kernelspec": {
   "display_name": "Python 2",
   "language": "python",
   "name": "python2"
  },
  "language_info": {
   "codemirror_mode": {
    "name": "ipython",
    "version": 2
   },
   "file_extension": ".py",
   "mimetype": "text/x-python",
   "name": "python",
   "nbconvert_exporter": "python",
   "pygments_lexer": "ipython2",
   "version": "2.7.13"
  },
  "widgets": {
   "application/vnd.jupyter.widget-state+json": {
    "state": {},
    "version_major": 2,
    "version_minor": 0
   }
  }
 },
 "nbformat": 4,
 "nbformat_minor": 2
}
